{
 "cells": [
  {
   "cell_type": "markdown",
   "id": "2667eb35-5e1c-4dcf-9c73-0df1e072d1ea",
   "metadata": {},
   "source": [
    "## Out Degree Directed Graph"
   ]
  },
  {
   "cell_type": "code",
   "execution_count": 37,
   "id": "878ffac9-f58f-4ac7-bfe8-986d165d35fc",
   "metadata": {},
   "outputs": [
    {
     "name": "stdout",
     "output_type": "stream",
     "text": [
      "\n",
      "[0, 1, 1, 0, 0, 0]\n",
      "[0, 0, 1, 1, 0, 0]\n",
      "[0, 0, 0, 1, 0, 0]\n",
      "[0, 0, 0, 0, 1, 0]\n",
      "[1, 1, 0, 0, 0, 1]\n",
      "[0, 0, 0, 0, 0, 0]\n",
      "3\n"
     ]
    }
   ],
   "source": [
    "def creatMatrix(n):\n",
    "    m=[]\n",
    "    for i in range(n):\n",
    "        c=[]\n",
    "        for j in range(n):\n",
    "            c.append(0)\n",
    "        m.append(c)\n",
    "    return m\n",
    "def printMatrix(m):\n",
    "    for i in m:\n",
    "        print(i)\n",
    " \n",
    "def inDegree(m,v):\n",
    "    pass\n",
    " \n",
    "def outDegree(m,v):\n",
    "    c=0\n",
    "    for i in range(len(m[v])):\n",
    "        if m[v][i]==1:\n",
    "            c=c+1\n",
    "    return c\n",
    " \n",
    "f=open(\"Graph04nov.txt\",\"r\")\n",
    "v_e=f.readline().split()\n",
    "n=int(v_e[0])\n",
    "m=int(v_e[1])\n",
    " \n",
    "matrix=creatMatrix(n)\n",
    "#printMatrix(matrix)\n",
    " \n",
    "print()\n",
    " \n",
    "for i in range(m):\n",
    "    l=f.readline().split()\n",
    "    u=int(l[0])\n",
    "    v=int(l[1])\n",
    "    matrix[u][v]=1 # for directed\n",
    "#    matrix[v][u]=1 # for undirected\n",
    "printMatrix(matrix)\n",
    "print(outDegree(matrix,4))"
   ]
  },
  {
   "cell_type": "markdown",
   "id": "3f4ea8d0-4f66-47d8-b801-f45043eb680e",
   "metadata": {},
   "source": [
    "## In Degree Directed Graph"
   ]
  },
  {
   "cell_type": "code",
   "execution_count": 47,
   "id": "06d97f3d-f689-48a3-80ce-07f0c210ee9e",
   "metadata": {},
   "outputs": [
    {
     "name": "stdout",
     "output_type": "stream",
     "text": [
      "\n",
      "[0, 1, 1, 0, 0, 0]\n",
      "[0, 0, 1, 1, 0, 0]\n",
      "[0, 0, 0, 1, 0, 0]\n",
      "[0, 0, 0, 0, 1, 0]\n",
      "[1, 1, 0, 0, 0, 1]\n",
      "[0, 0, 0, 0, 0, 0]\n",
      "3\n",
      "1\n"
     ]
    }
   ],
   "source": [
    "def creatMatrix(n):\n",
    "    m=[]\n",
    "    for i in range(n):\n",
    "        c=[]\n",
    "        for j in range(n):\n",
    "            c.append(0)\n",
    "        m.append(c)\n",
    "    return m\n",
    "def printMatrix(m):\n",
    "    for i in m:\n",
    "        print(i)\n",
    " \n",
    "def inDegree(m,v):\n",
    "    c=0\n",
    "    for i in range(len(m[v])):\n",
    "        if m[i][v]==1:\n",
    "            c=c+1\n",
    "    return c\n",
    " \n",
    "def outDegree(m,v):\n",
    "    c=0\n",
    "    for i in range(len(m[v])):\n",
    "        if m[v][i]==1:\n",
    "            c=c+1\n",
    "    return c\n",
    " \n",
    " \n",
    "f=open(\"Graph04nov.txt\",\"r\")\n",
    "v_e=f.readline().split()\n",
    "n=int(v_e[0])\n",
    "m=int(v_e[1])\n",
    " \n",
    "matrix=creatMatrix(n)\n",
    " \n",
    "print()\n",
    " \n",
    "for i in range(m):\n",
    "    l=f.readline().split()\n",
    "    u=int(l[0])\n",
    "    v=int(l[1])\n",
    "    matrix[u][v]=1 # for directed\n",
    "printMatrix(matrix)\n",
    "print(outDegree(matrix,4))\n",
    "print(inDegree(matrix,4))"
   ]
  },
  {
   "cell_type": "markdown",
   "id": "10b8bdd3-c248-4173-b4f9-25ea44598a87",
   "metadata": {},
   "source": [
    "## Out Degree inDirected Graph"
   ]
  },
  {
   "cell_type": "code",
   "execution_count": 55,
   "id": "f8480d15-12e4-4f48-aee5-5b42d3647fc2",
   "metadata": {},
   "outputs": [
    {
     "name": "stdout",
     "output_type": "stream",
     "text": [
      "<class 'int'>\n",
      "[0, 4, 0, 0, 0, 0, 7, 0, 0]\n",
      "[4, 0, 9, 0, 0, 0, 11, 20, 0]\n",
      "[0, 9, 0, 6, 2, 0, 0, 0, 0]\n",
      "[0, 0, 6, 0, 10, 5, 0, 0, 0]\n",
      "[0, 0, 2, 10, 0, 15, 0, 1, 5]\n",
      "[0, 0, 0, 5, 15, 0, 0, 0, 12]\n",
      "[7, 11, 0, 0, 0, 0, 0, 1, 0]\n",
      "[0, 20, 0, 0, 1, 0, 1, 0, 0]\n",
      "[0, 0, 0, 0, 5, 12, 0, 0, 0]\n",
      "2\n",
      "2\n",
      "20\n"
     ]
    }
   ],
   "source": [
    "def creatMatrix(n):\n",
    "    m=[]\n",
    "    for i in range(n):\n",
    "        c=[]\n",
    "        for j in range(n):\n",
    "             c.append(0)\n",
    "        m.append(c)\n",
    "    return m\n",
    "def PrintMatrix(m):\n",
    "    for i in m:\n",
    "        print(i)\n",
    "def inDegree(m,v):\n",
    "    c=0\n",
    "    for i in range(len(m[v])):\n",
    "        if m[i][v]!=0:\n",
    "             c=c+1\n",
    "             \n",
    "    return c\n",
    "def outDegree(m,v):\n",
    "     c=0  \n",
    "     for i in range(len(m[v])):\n",
    "        if m[v][i]!=0:\n",
    "            c=c+1\n",
    "     return c\n",
    "    \n",
    "def maxWeight(m):\n",
    "    max_weight = 0\n",
    "    \n",
    "    for row in m:\n",
    "        max_weight = max(max_weight, max(row)) \n",
    "    return max_weight\n",
    "    \n",
    "\n",
    "f=open(\"11novindirewatedGraph.txt\",\"r\")\n",
    "v_e=f.readline().split()\n",
    "n=int(v_e[0])\n",
    "m=int(v_e[1])\n",
    "\n",
    "print(type(n))\n",
    "matrix=creatMatrix(n)\n",
    "#PrintMatrix(matrix)\n",
    "\n",
    "for i in range (m):\n",
    "    l=f.readline().split()\n",
    "    u=int(l[0])\n",
    "    v=int(l[1])\n",
    "    w=int(l[2])\n",
    "    matrix[u][v]=w\n",
    "    matrix[v][u]=w\n",
    "PrintMatrix(matrix)\n",
    "print(outDegree(matrix,0))\n",
    "print(inDegree(matrix,0))\n",
    "print(maxWeight(matrix))\n"
   ]
  },
  {
   "cell_type": "markdown",
   "id": "09e2a70a-0f09-4174-b110-0a4cd412fde6",
   "metadata": {},
   "source": [
    "## List"
   ]
  },
  {
   "cell_type": "code",
   "execution_count": 57,
   "id": "39e8ca5c-93fa-4192-95ba-fd3ae4dcb070",
   "metadata": {},
   "outputs": [
    {
     "name": "stdout",
     "output_type": "stream",
     "text": [
      "{0: [], 1: [], 2: [], 3: []}\n"
     ]
    }
   ],
   "source": [
    "def createlist(n):\n",
    "    adj={}\n",
    "    for i in range(n):\n",
    "        adj[i]=[]\n",
    "    return adj\n",
    "\n",
    "adj_List=createlist(4)\n",
    "\n",
    "print (adj_List)"
   ]
  },
  {
   "cell_type": "code",
   "execution_count": 61,
   "id": "5d803aab-2601-4d0a-85f5-7fff1539bcfc",
   "metadata": {},
   "outputs": [
    {
     "name": "stdout",
     "output_type": "stream",
     "text": [
      "{0: [], 1: [], 2: [], 3: []}\n"
     ]
    }
   ],
   "source": [
    "def createlist(n):\n",
    "    adj={}\n",
    "    for i in range(n):\n",
    "        adj[i]=[]\n",
    "    return adj\n",
    "def printList(adj):\n",
    "    for i in range(len(adj)):\n",
    "        print(i,end=\"->\")\n",
    "        print(adj[i])\n",
    "        \n",
    "adj_List=createlist(4)\n",
    "\n",
    "print (adj_List)"
   ]
  },
  {
   "cell_type": "code",
   "execution_count": 64,
   "id": "da203556-4166-42e0-b35a-2b7436edf09e",
   "metadata": {},
   "outputs": [
    {
     "name": "stdout",
     "output_type": "stream",
     "text": [
      "0->[1, 6]\n",
      "1->[0, 2, 6, 7]\n",
      "2->[1, 4, 3]\n",
      "3->[2, 4, 5]\n",
      "4->[2, 7, 3, 5, 8]\n",
      "5->[4, 3, 8]\n",
      "6->[0, 1, 7]\n",
      "7->[1, 6, 4]\n",
      "8->[4, 5]\n"
     ]
    }
   ],
   "source": [
    "def createlist(n):\n",
    "    adj={}\n",
    "    for i in range(n):\n",
    "        adj[i]=[]\n",
    "    return adj\n",
    "def printList(adj):\n",
    "    for i in range(len(adj)):\n",
    "        print(i,end=\"->\")\n",
    "        print(adj[i])\n",
    "f=open(\"11novindirewatedGraph.txt\",\"r\")\n",
    "v_e=f.readline().split()\n",
    "n=int(v_e[0])\n",
    "m=int(v_e[1])\n",
    "\n",
    "adj_List=createlist(n)\n",
    "for i in range (m):\n",
    "    l=f.readline().split()\n",
    "    u=int(l[0])\n",
    "    v=int(l[1])\n",
    "    adj_List[u].append(v)    \n",
    "    adj_List[v].append(u)  \n",
    "\n",
    "printList(adj_List)"
   ]
  },
  {
   "cell_type": "markdown",
   "id": "3008bc7d-0332-4af6-87e8-ed3089d3928c",
   "metadata": {},
   "source": [
    "## List In-Out Degree"
   ]
  },
  {
   "cell_type": "code",
   "execution_count": 100,
   "id": "a6b2c45f-702f-409a-99cd-36e968cc709b",
   "metadata": {},
   "outputs": [
    {
     "name": "stdout",
     "output_type": "stream",
     "text": [
      "0->[(1, 4), (6, 7)]\n",
      "1->[(0, 4), (2, 9), (6, 11), (7, 20)]\n",
      "2->[(1, 9), (4, 2), (3, 6)]\n",
      "3->[(2, 6), (4, 10), (5, 5)]\n",
      "4->[(2, 2), (7, 1), (3, 10), (5, 15), (8, 5)]\n",
      "5->[(4, 15), (3, 5), (8, 12)]\n",
      "6->[(0, 7), (1, 11), (7, 1)]\n",
      "7->[(1, 20), (6, 1), (4, 1)]\n",
      "8->[(4, 5), (5, 12)]\n",
      "5\n",
      "0\n"
     ]
    }
   ],
   "source": [
    "def createlist(n):\n",
    "    adj = {}\n",
    "    for i in range(n):\n",
    "        adj[i] = []\n",
    "    return adj \n",
    "\n",
    "def printList(adj):\n",
    "    for i in adj:\n",
    "        print(i, end=\"->\")\n",
    "        print(adj[i])\n",
    "\n",
    "f=open(\"11novindirewatedGraph.txt\",\"r\")\n",
    "v_e = f.readline().split()\n",
    "n = int(v_e[0])\n",
    "m = int(v_e[1])\n",
    "\n",
    "adj_List = createlist(n)\n",
    "\n",
    "def inDegree(adj, v):\n",
    "    c = 0\n",
    "    for i in range(len(adj)):\n",
    "        if v in adj[i]:\n",
    "            c += 1\n",
    "    return c\n",
    "\n",
    "def outDegree(adj, v):\n",
    "    return len(adj[v])\n",
    "\n",
    "for i in range(m):\n",
    "    l = f.readline().split()\n",
    "    u = int(l[0])\n",
    "    v = int(l[1])\n",
    "    w = int(l[2])  \n",
    "    adj_List[u].append((v, w)) \n",
    "    adj_List[v].append((u, w))  \n",
    "\n",
    "printList(adj_List)\n",
    "print(outDegree(adj_List, 4))\n",
    "print(inDegree(adj_List, 5))\n"
   ]
  },
  {
   "cell_type": "markdown",
   "id": "fb7a5244-f69f-4c1b-8174-1ad84b7d079e",
   "metadata": {},
   "source": [
    "## List In-Out Degree with Max Weight"
   ]
  },
  {
   "cell_type": "code",
   "execution_count": 89,
   "id": "264f86ea-44cc-4309-b611-f30a40e382fc",
   "metadata": {},
   "outputs": [
    {
     "name": "stdout",
     "output_type": "stream",
     "text": [
      "0->[(1, 4), (6, 7)]\n",
      "1->[(0, 4), (2, 9), (6, 11), (7, 20)]\n",
      "2->[(1, 9), (4, 2), (3, 6)]\n",
      "3->[(2, 6), (4, 10), (5, 5)]\n",
      "4->[(2, 2), (7, 1), (3, 10), (5, 15), (8, 5)]\n",
      "5->[(4, 15), (3, 5), (8, 12)]\n",
      "6->[(0, 7), (1, 11), (7, 1)]\n",
      "7->[(1, 20), (6, 1), (4, 1)]\n",
      "8->[(4, 5), (5, 12)]\n",
      "2\n",
      "0\n",
      "20\n"
     ]
    }
   ],
   "source": [
    "def createlist(n):\n",
    "    adj = {}\n",
    "    for i in range(n):\n",
    "        adj[i] = []\n",
    "    return adj \n",
    "\n",
    "def printList(adj):\n",
    "    for i in adj:\n",
    "        print(i, end=\"->\")\n",
    "        print(adj[i])\n",
    "\n",
    "f=open(\"11novindirewatedGraph.txt\",\"r\")\n",
    "v_e = f.readline().split()\n",
    "n = int(v_e[0])\n",
    "m = int(v_e[1])\n",
    "\n",
    "adj_List = createlist(n)\n",
    "\n",
    "def inDegree(adj, v):\n",
    "    c = 0\n",
    "    for i in range(len(adj)):\n",
    "        if v in adj[i]:\n",
    "            c += 1\n",
    "    return c\n",
    "\n",
    "def outDegree(adj, v):\n",
    "    return len(adj[v])\n",
    "\n",
    "def maxWeight(adj):\n",
    "    max_weight = 0\n",
    "    \n",
    "    for row in adj.values():\n",
    "        for edge in row:\n",
    "            max_weight = max(max_weight, edge[1]) \n",
    "    return max_weight\n",
    "   \n",
    "\n",
    "for i in range(m):\n",
    "    l = f.readline().split()\n",
    "    u = int(l[0])\n",
    "    v = int(l[1])\n",
    "    w = int(l[2])  \n",
    "    adj_List[u].append((v, w)) \n",
    "    adj_List[v].append((u, w))  \n",
    "\n",
    "printList(adj_List)\n",
    "print(outDegree(adj_List, 0))\n",
    "print(inDegree(adj_List, 0))\n",
    "print(maxWeight(adj_List))\n"
   ]
  },
  {
   "cell_type": "markdown",
   "id": "121a24eb-8d5f-425c-91db-fa19c46e07a4",
   "metadata": {},
   "source": [
    "## Stack"
   ]
  },
  {
   "cell_type": "code",
   "execution_count": 105,
   "id": "9ab11cf6-d801-47be-9fd1-5ac1a52d9af2",
   "metadata": {},
   "outputs": [
    {
     "name": "stdout",
     "output_type": "stream",
     "text": [
      "10\n",
      "20\n",
      "30\n"
     ]
    }
   ],
   "source": [
    "import queue\n",
    "\n",
    "q=queue.Queue()\n",
    "q.put(10)\n",
    "q.put(20)\n",
    "q.put(30)\n",
    "\n",
    "while not q.empty():\n",
    "    print(q.get())"
   ]
  },
  {
   "cell_type": "markdown",
   "id": "1be7a05e-81b2-4124-afa4-c7e664895fbf",
   "metadata": {},
   "source": [
    "## LIFO Q"
   ]
  },
  {
   "cell_type": "code",
   "execution_count": 109,
   "id": "c1a86d35-6143-4401-bd82-06c7af6ea1f9",
   "metadata": {},
   "outputs": [
    {
     "name": "stdout",
     "output_type": "stream",
     "text": [
      "30\n",
      "20\n",
      "10\n"
     ]
    }
   ],
   "source": [
    "import queue\n",
    "\n",
    "s=queue.LifoQueue()\n",
    "s.put(10)\n",
    "s.put(20)\n",
    "s.put(30)\n",
    "\n",
    "while not s.empty():\n",
    "    print(s.get())"
   ]
  },
  {
   "cell_type": "markdown",
   "id": "4eee1f9e-19c6-4618-8cae-244aa6f991f4",
   "metadata": {},
   "source": [
    "## Piroty Q"
   ]
  },
  {
   "cell_type": "code",
   "execution_count": 117,
   "id": "56473361-4965-4adf-805f-037203ef3cff",
   "metadata": {},
   "outputs": [
    {
     "ename": "AttributeError",
     "evalue": "module 'queue' has no attribute 'PrioraityQueue'",
     "output_type": "error",
     "traceback": [
      "\u001b[1;31m---------------------------------------------------------------------------\u001b[0m",
      "\u001b[1;31mAttributeError\u001b[0m                            Traceback (most recent call last)",
      "Cell \u001b[1;32mIn[117], line 3\u001b[0m\n\u001b[0;32m      1\u001b[0m \u001b[38;5;28;01mimport\u001b[39;00m \u001b[38;5;21;01mqueue\u001b[39;00m\n\u001b[1;32m----> 3\u001b[0m pq\u001b[38;5;241m=\u001b[39mqueue\u001b[38;5;241m.\u001b[39mPrioraityQueue()\n\u001b[0;32m      4\u001b[0m pq\u001b[38;5;241m.\u001b[39mput((\u001b[38;5;241m10\u001b[39m,\u001b[38;5;124m\"\u001b[39m\u001b[38;5;124mEfty\u001b[39m\u001b[38;5;124m\"\u001b[39m))\n\u001b[0;32m      5\u001b[0m pq\u001b[38;5;241m.\u001b[39mput((\u001b[38;5;241m200\u001b[39m,\u001b[38;5;124m\"\u001b[39m\u001b[38;5;124mEfty\u001b[39m\u001b[38;5;124m\"\u001b[39m))\n",
      "\u001b[1;31mAttributeError\u001b[0m: module 'queue' has no attribute 'PrioraityQueue'"
     ]
    }
   ],
   "source": [
    "import queue\n",
    "\n",
    "pq=queue.PrioraityQueue()\n",
    "pq.put((10,\"Efty\"))\n",
    "pq.put((200,\"Efty\"))\n",
    "pq.put((300,\"Efty\"))\n",
    "\n",
    "\n",
    "while not pq.empty():\n",
    "    print(pq.get())"
   ]
  },
  {
   "cell_type": "code",
   "execution_count": null,
   "id": "01cbe23a-8e18-4268-90f8-e6f6f551ac4b",
   "metadata": {},
   "outputs": [],
   "source": []
  }
 ],
 "metadata": {
  "kernelspec": {
   "display_name": "Python 3 (ipykernel)",
   "language": "python",
   "name": "python3"
  },
  "language_info": {
   "codemirror_mode": {
    "name": "ipython",
    "version": 3
   },
   "file_extension": ".py",
   "mimetype": "text/x-python",
   "name": "python",
   "nbconvert_exporter": "python",
   "pygments_lexer": "ipython3",
   "version": "3.12.4"
  }
 },
 "nbformat": 4,
 "nbformat_minor": 5
}
