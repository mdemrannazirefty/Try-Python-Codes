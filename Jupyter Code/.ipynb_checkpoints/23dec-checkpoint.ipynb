{
 "cells": [
  {
   "cell_type": "code",
   "execution_count": 3,
   "id": "a4f3b212-aed2-4465-8d83-d383594916e8",
   "metadata": {},
   "outputs": [
    {
     "name": "stdin",
     "output_type": "stream",
     "text": [
      "Enter (N) Values:  10\n"
     ]
    },
    {
     "name": "stdout",
     "output_type": "stream",
     "text": [
      "[0, 0, 0, 0, 0, 0, 0, 1, 0, 0]\n",
      "[0, 1, 0, 0, 0, 0, 0, 0, 0, 0]\n",
      "[0, 0, 0, 0, 0, 0, 0, 0, 1, 0]\n",
      "[0, 0, 0, 0, 0, 0, 0, 0, 1, 0]\n",
      "[0, 0, 0, 0, 0, 0, 1, 0, 0, 0]\n",
      "[0, 0, 0, 0, 0, 0, 1, 0, 0, 0]\n",
      "[0, 0, 0, 0, 1, 0, 0, 0, 0, 0]\n",
      "[0, 0, 0, 0, 0, 0, 0, 0, 1, 0]\n",
      "[0, 0, 0, 0, 0, 0, 1, 0, 0, 0]\n",
      "[0, 0, 0, 0, 0, 0, 0, 1, 0, 0]\n"
     ]
    }
   ],
   "source": [
    "import random\n",
    " \n",
    "def createMatrix(n):\n",
    "    m = []\n",
    "    for i in range(n):\n",
    "        c = []\n",
    "        for j in range(n):\n",
    "            c.append(0)  \n",
    "        m.append(c)  \n",
    "    return m\n",
    " \n",
    "def populateMatrixForQuestions(matrix, n):\n",
    "    for i in range(n):  \n",
    "        j = random.randint(0, n-1)  \n",
    "        matrix[i][j] = 1  \n",
    " \n",
    " \n",
    "n = int(input(\"Enter (N) Values: \"))\n",
    " \n",
    "matrix = createMatrix(n)\n",
    "populateMatrixForQuestions(matrix, n)\n",
    " \n",
    " \n",
    "for row in matrix:\n",
    "    print(row)"
   ]
  },
  {
   "cell_type": "code",
   "execution_count": 1,
   "id": "fff6526f-758b-419e-8ba3-cd0822080bbb",
   "metadata": {},
   "outputs": [
    {
     "name": "stdin",
     "output_type": "stream",
     "text": [
      "Value of n:  5\n"
     ]
    },
    {
     "name": "stdout",
     "output_type": "stream",
     "text": [
      "[0, 0, 0, 1, 0]\n",
      "[0, 0, 0, 1, 0]\n",
      "[0, 0, 0, 0, 1]\n",
      "[0, 0, 1, 0, 0]\n",
      "[0, 0, 0, 1, 0]\n",
      "Queen Positions : [[0, 3], [1, 3], [2, 4], [3, 2], [4, 3]]\n",
      "Row Attack      : 0\n",
      "Column Attack   : 3\n",
      "Diagonal Attack : 0\n",
      "Total Attack    : 3\n",
      "Non Attack      : 7\n"
     ]
    }
   ],
   "source": [
    "import random\n",
    " \n",
    "def createMatrix(n):\n",
    "    m=[]\n",
    "    for i in range(n):\n",
    "        c=[]\n",
    "        for j in range(n):\n",
    "            c.append(0)\n",
    "        m.append(c)\n",
    "    return m\n",
    " \n",
    "def printMatrix(m):\n",
    "    for i in m:\n",
    "        print(i)\n",
    "n = int(input(\"Value of n: \"))\n",
    "matrix=createMatrix(n)\n",
    " \n",
    "for i in range(n):\n",
    "    j=random.randint(0,4)\n",
    "    matrix[i][j]=1\n",
    "printMatrix(matrix)\n",
    " \n",
    "positions = []\n",
    "for i in range(n):\n",
    "    for j in range(n):\n",
    "        if matrix[i][j]==1:\n",
    "            positions.append([i,j])\n",
    " \n",
    "print(f\"Queen Positions : {positions}\")\n",
    " \n",
    "rAttack=0\n",
    "cAttack=0\n",
    "dAttackI=0\n",
    "for i in range(len(positions)):\n",
    "    for j in range(i + 1, len(positions)):\n",
    "        if positions[i][0] == positions[j][0]:\n",
    "            rAttack += 1\n",
    "        if positions[i][1] == positions[j][1]:\n",
    "            cAttack +=1\n",
    "        x=abs(positions[i][0] - positions[i][1])\n",
    "        y=abs(positions[j][0] - positions[j][1])\n",
    "        if x==y:\n",
    "            dAttackI += 1\n",
    "dAttack = dAttackI-rAttack-cAttack\n",
    "if dAttack<0:\n",
    "    dAttack=0\n",
    "tAttack = rAttack+cAttack+dAttack\n",
    " \n",
    "print(f\"Row Attack      : {rAttack}\")\n",
    "print(f\"Column Attack   : {cAttack}\")\n",
    "print(f\"Diagonal Attack : {dAttack}\")\n",
    "print(f\"Total Attack    : {tAttack}\")\n",
    " \n",
    "Possible= n*(n-1)/2\n",
    "non_Attack = int(Possible - tAttack)\n",
    " \n",
    "print(f\"Non Attack      : {non_Attack}\")"
   ]
  },
  {
   "cell_type": "code",
   "execution_count": null,
   "id": "40983e04-e52a-4128-a3ba-978e1981182a",
   "metadata": {},
   "outputs": [],
   "source": []
  }
 ],
 "metadata": {
  "kernelspec": {
   "display_name": "Python 3 (ipykernel)",
   "language": "python",
   "name": "python3"
  },
  "language_info": {
   "codemirror_mode": {
    "name": "ipython",
    "version": 3
   },
   "file_extension": ".py",
   "mimetype": "text/x-python",
   "name": "python",
   "nbconvert_exporter": "python",
   "pygments_lexer": "ipython3",
   "version": "3.12.4"
  }
 },
 "nbformat": 4,
 "nbformat_minor": 5
}
