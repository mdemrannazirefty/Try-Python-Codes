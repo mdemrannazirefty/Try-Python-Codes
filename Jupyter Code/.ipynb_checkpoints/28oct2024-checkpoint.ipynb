{
 "cells": [
  {
   "cell_type": "code",
   "execution_count": 1,
   "id": "66a6ef87-7adf-4247-83f3-a07eecd323da",
   "metadata": {},
   "outputs": [
    {
     "name": "stdout",
     "output_type": "stream",
     "text": [
      "Adult\n",
      "I love to write code\n"
     ]
    }
   ],
   "source": [
    "age=20\n",
    "if age>=18:\n",
    "    print(\"Adult\")\n",
    "    print(\"I love to write code\")\n",
    "else:\n",
    "    print(\"Not Adult\")"
   ]
  },
  {
   "cell_type": "code",
   "execution_count": 3,
   "id": "101a28e5-2ee5-40dd-b25e-6072a01cb343",
   "metadata": {},
   "outputs": [
    {
     "name": "stdout",
     "output_type": "stream",
     "text": [
      "A+\n"
     ]
    }
   ],
   "source": [
    "marks=90\n",
    "if marks>=90 and marks<=100:\n",
    "    print(\"A+\")\n",
    "elif marks>=58 and marks<=90:\n",
    "    print(\"A\")\n",
    "else:\n",
    "    print(\"FAil\")"
   ]
  },
  {
   "cell_type": "markdown",
   "id": "d62c06cb-f1d3-4ee2-9b5a-783917c4ff0e",
   "metadata": {},
   "source": [
    "User Input\n"
   ]
  },
  {
   "cell_type": "code",
   "execution_count": 3,
   "id": "0956f43a-8bce-4059-8f43-ce00f8dd4fc7",
   "metadata": {},
   "outputs": [
    {
     "name": "stdin",
     "output_type": "stream",
     "text": [
      "Enter your number 10\n"
     ]
    },
    {
     "name": "stdout",
     "output_type": "stream",
     "text": [
      "FAil\n"
     ]
    }
   ],
   "source": [
    "marks=int(input(\"Enter your number\"))\n",
    "if marks>=90 and marks<=100:\n",
    "    print(\"A+\")\n",
    "elif marks>=58 and marks<=90:\n",
    "    print(\"A\")\n",
    "else:\n",
    "    print(\"FAil\")"
   ]
  },
  {
   "cell_type": "code",
   "execution_count": 10,
   "id": "0f0c2b92-b000-40e2-a969-c10f8d202e56",
   "metadata": {},
   "outputs": [
    {
     "name": "stdin",
     "output_type": "stream",
     "text": [
      "Enter your 1st number:  10\n",
      "Enter your 2nd number:  20\n"
     ]
    },
    {
     "name": "stdout",
     "output_type": "stream",
     "text": [
      "<class 'str'>\n",
      "<class 'str'>\n",
      "1020\n"
     ]
    }
   ],
   "source": [
    "a=input(\"Enter your 1st number: \")\n",
    "b=input(\"Enter your 2nd number: \")\n",
    "print(type(a))\n",
    "print(type(b))\n",
    "result=a+b\n",
    "print(result) "
   ]
  },
  {
   "cell_type": "code",
   "execution_count": 12,
   "id": "bbfe6fc4-6384-4076-80c3-b4c4b912e602",
   "metadata": {},
   "outputs": [
    {
     "name": "stdin",
     "output_type": "stream",
     "text": [
      "Enter your 1st number:  10\n",
      "Enter your 2nd number:  20\n"
     ]
    },
    {
     "name": "stdout",
     "output_type": "stream",
     "text": [
      "<class 'int'>\n",
      "<class 'int'>\n",
      "30\n"
     ]
    }
   ],
   "source": [
    "a=int(input(\"Enter your 1st number: \"))\n",
    "b=int(input(\"Enter your 2nd number: \"))\n",
    "print(type(a))\n",
    "print(type(b))\n",
    "result=a+b\n",
    "print(result) "
   ]
  },
  {
   "cell_type": "markdown",
   "id": "921617d7-3b42-42db-878b-738f17c87fe7",
   "metadata": {},
   "source": [
    "Range"
   ]
  },
  {
   "cell_type": "code",
   "execution_count": 15,
   "id": "0192fa2c-f925-49f4-9e3e-28d25f1f1a01",
   "metadata": {},
   "outputs": [
    {
     "name": "stdout",
     "output_type": "stream",
     "text": [
      "0 1 2 3 4 5 6 7 8 9 10 "
     ]
    }
   ],
   "source": [
    "for i in range (11):\n",
    "    print(i,end=\" \")\n",
    "    "
   ]
  },
  {
   "cell_type": "code",
   "execution_count": 17,
   "id": "527db72f-5367-42e3-8c5d-08ca8058a8e1",
   "metadata": {},
   "outputs": [
    {
     "name": "stdout",
     "output_type": "stream",
     "text": [
      "5 6 7 8 9 10 "
     ]
    }
   ],
   "source": [
    "for i in range (5,11):\n",
    "    print(i,end=\" \")"
   ]
  },
  {
   "cell_type": "code",
   "execution_count": 19,
   "id": "d5257a1a-8639-464f-a804-e71fb80952cf",
   "metadata": {},
   "outputs": [
    {
     "name": "stdout",
     "output_type": "stream",
     "text": [
      "5 7 9 "
     ]
    }
   ],
   "source": [
    "for i in range (5,11,2):#range gap\n",
    "    print(i,end=\" \")"
   ]
  },
  {
   "cell_type": "code",
   "execution_count": 22,
   "id": "d914901c-20ad-4d2e-ba23-029bb34c04b8",
   "metadata": {},
   "outputs": [
    {
     "name": "stdout",
     "output_type": "stream",
     "text": [
      "1 3 5 7 9 "
     ]
    }
   ],
   "source": [
    "for i in range (1,11):\n",
    "    if i%2==0:\n",
    "        continue\n",
    "    print(i,end=\" \")"
   ]
  },
  {
   "cell_type": "code",
   "execution_count": 24,
   "id": "e0d2c907-6dbb-4f52-9269-84c01104c8a3",
   "metadata": {},
   "outputs": [
    {
     "name": "stdout",
     "output_type": "stream",
     "text": [
      "1 2 3 4 "
     ]
    }
   ],
   "source": [
    "for i in range (1,11):\n",
    "    if i5:\n",
    "        break\n",
    "    print(i,end=\" \")"
   ]
  },
  {
   "cell_type": "code",
   "execution_count": 29,
   "id": "f98525cc-757e-4122-b8b8-0655b829a33c",
   "metadata": {},
   "outputs": [
    {
     "name": "stdout",
     "output_type": "stream",
     "text": [
      "0 1 2 3 4 5 6 7 8 9 10 "
     ]
    }
   ],
   "source": [
    "i=0\n",
    "while i<=10:\n",
    "    print(i, end=\" \")\n",
    "    i=i+1"
   ]
  },
  {
   "cell_type": "markdown",
   "id": "e4daf672-7dfa-47cc-8bb0-b100b1bda8bd",
   "metadata": {},
   "source": [
    "ADT"
   ]
  },
  {
   "cell_type": "code",
   "execution_count": 31,
   "id": "fbe207b8-1d6d-4d9f-94e7-36030c55f30a",
   "metadata": {},
   "outputs": [
    {
     "name": "stdout",
     "output_type": "stream",
     "text": [
      "[10, 20, 30, 40, 60]\n"
     ]
    }
   ],
   "source": [
    "list=[10,20,30,40]\n",
    "list.append(60)\n",
    "print(list)"
   ]
  },
  {
   "cell_type": "code",
   "execution_count": 39,
   "id": "60d32723-64f7-43f6-b919-2b9ab0ae93d8",
   "metadata": {},
   "outputs": [
    {
     "name": "stdout",
     "output_type": "stream",
     "text": [
      "1\n"
     ]
    }
   ],
   "source": [
    "list=[10,20,30,40]\n",
    "f=list.count(10)\n",
    "print(f)"
   ]
  },
  {
   "cell_type": "code",
   "execution_count": 41,
   "id": "9fc33083-3758-4a9a-bbee-6d1cce0cf5b8",
   "metadata": {},
   "outputs": [
    {
     "name": "stdout",
     "output_type": "stream",
     "text": [
      "[40, 10, 40, 30, 20, 10]\n"
     ]
    }
   ],
   "source": [
    "list=[10,20,30,40,10,40]\n",
    "list.reverse()\n",
    "print(list)"
   ]
  },
  {
   "cell_type": "code",
   "execution_count": 43,
   "id": "693e4182-ce3c-4a5d-b247-e9f4235ccf4c",
   "metadata": {},
   "outputs": [
    {
     "name": "stdout",
     "output_type": "stream",
     "text": [
      "6\n"
     ]
    }
   ],
   "source": [
    "list=[10,20,30,40,10,40]\n",
    "#for i in range\n",
    "print(len(list))"
   ]
  },
  {
   "cell_type": "code",
   "execution_count": 60,
   "id": "5630c731-5df8-444e-b68d-9e8b0e8b0152",
   "metadata": {},
   "outputs": [
    {
     "name": "stdout",
     "output_type": "stream",
     "text": [
      "6\n",
      "40\n",
      "10 20 30 40 10 40 "
     ]
    }
   ],
   "source": [
    "list=[10,20,30,40,10,40]\n",
    "print(len(list))\n",
    "print(list[3])\n",
    "for i in range (len(list)):\n",
    "    print(list[i],end=\" \")\n",
    "\n"
   ]
  },
  {
   "cell_type": "code",
   "execution_count": 58,
   "id": "b78b6ecd-5379-4d1e-8bfe-98e43f714d25",
   "metadata": {},
   "outputs": [
    {
     "name": "stdout",
     "output_type": "stream",
     "text": [
      "[3, 4]\n"
     ]
    }
   ],
   "source": [
    "list=[1,2,3,4,1,4,3]\n",
    "print(list[2:4])\n"
   ]
  },
  {
   "cell_type": "markdown",
   "id": "cf238a9d-2d1e-4bc4-ba8b-d4722417ceaa",
   "metadata": {},
   "source": [
    "#touple"
   ]
  },
  {
   "cell_type": "code",
   "execution_count": 68,
   "id": "85558cd8-49c9-4ca5-af78-b888155cd4fd",
   "metadata": {},
   "outputs": [
    {
     "name": "stdout",
     "output_type": "stream",
     "text": [
      "10\n"
     ]
    }
   ],
   "source": [
    "t=(10,20,30)\n",
    "print(t[0])"
   ]
  },
  {
   "cell_type": "code",
   "execution_count": 62,
   "id": "028f69a7-2dc7-4cea-84fb-b4aa92e15c59",
   "metadata": {},
   "outputs": [
    {
     "name": "stdout",
     "output_type": "stream",
     "text": [
      "10\n",
      "20\n",
      "30\n"
     ]
    }
   ],
   "source": [
    "t=(10,20,30)\n",
    "for i in range(len(t)):\n",
    "    print(t[i])"
   ]
  },
  {
   "cell_type": "code",
   "execution_count": 73,
   "id": "43a2114f-adad-4cb2-97de-c2debb534049",
   "metadata": {},
   "outputs": [
    {
     "name": "stdout",
     "output_type": "stream",
     "text": [
      "4\n"
     ]
    }
   ],
   "source": [
    "t=[[10,20,30,40],\n",
    "   [40,50,60,40]\n",
    "  ]\n",
    "print(len(t[0]))"
   ]
  },
  {
   "cell_type": "code",
   "execution_count": 87,
   "id": "e32dabd0-114a-46d9-af3a-c5de078deed6",
   "metadata": {},
   "outputs": [
    {
     "name": "stdout",
     "output_type": "stream",
     "text": [
      "10 \n",
      "20 \n",
      "30 \n",
      "40 \n",
      "40 \n",
      "50 \n",
      "60 \n",
      "40 \n"
     ]
    }
   ],
   "source": [
    "t=[[10,20,30,40],\n",
    "   [40,50,60,40]\n",
    "  ]\n",
    "for i in range(len(t)):\n",
    "    for j in range (len(t[0])):\n",
    "        print(t[i][j], end=\" \")\n",
    "        print()\n",
    "\n"
   ]
  },
  {
   "cell_type": "code",
   "execution_count": 85,
   "id": "6b536bdc-07b7-4f79-9296-7f0d94ad7dd0",
   "metadata": {},
   "outputs": [
    {
     "name": "stdout",
     "output_type": "stream",
     "text": [
      "2\n",
      "4\n",
      "10 20 30 40 \n",
      "40 50 60 40 \n"
     ]
    }
   ],
   "source": [
    "t=[[10,20,30,40],\n",
    "   [40,50,60,40]\n",
    "  ]\n",
    "row=len(t)\n",
    "column=len(t[0])\n",
    "print(row)\n",
    "print(column)\n",
    "for i in range(len(t)):\n",
    "    for j in range (len(t[0])):\n",
    "        print(t[i][j], end=\" \")\n",
    "    print()\n",
    "\n"
   ]
  },
  {
   "cell_type": "code",
   "execution_count": 93,
   "id": "8348eac4-81af-4e3d-aea0-352907d4979d",
   "metadata": {},
   "outputs": [
    {
     "name": "stdout",
     "output_type": "stream",
     "text": [
      "[0, 0, 0, 0, 0]\n",
      "[0, 0, 0, 0, 0]\n",
      "[0, 0, 0, 0, 0]\n",
      "[0, 0, 0, 0, 0]\n"
     ]
    }
   ],
   "source": [
    "row=4\n",
    "column=5\n",
    "m=[]\n",
    "for i in range(row):\n",
    "    c=[]\n",
    "    for j in range(column):\n",
    "        c.append(0)\n",
    "    m.append(c)\n",
    "for i in m:\n",
    "    print(i)"
   ]
  },
  {
   "cell_type": "code",
   "execution_count": 103,
   "id": "f0b9e0b5-72e5-4e06-813b-743bfc00f55b",
   "metadata": {},
   "outputs": [
    {
     "name": "stdin",
     "output_type": "stream",
     "text": [
      "Row:  2\n",
      "Column:  2\n",
      "Data:  1\n",
      "Data:  2\n",
      "Data:  3\n",
      "Data:  4\n"
     ]
    },
    {
     "name": "stdout",
     "output_type": "stream",
     "text": [
      "[1, 2]\n",
      "[3, 4]\n"
     ]
    }
   ],
   "source": [
    "row=int(input(\"Row: \"))\n",
    "column=int(input(\"Column: \"))\n",
    "m=[]\n",
    "for i in range(row):\n",
    "    c=[]\n",
    "    for j in range(column):\n",
    "        value=int(input(\"Data: \"))\n",
    "        c.append(value)\n",
    "    m.append(c)\n",
    "for i in m:\n",
    "    print(i)"
   ]
  },
  {
   "cell_type": "code",
   "execution_count": 122,
   "id": "493806a0-a67a-4106-868e-3d357511ea20",
   "metadata": {},
   "outputs": [
    {
     "name": "stdout",
     "output_type": "stream",
     "text": [
      "['F', 'C', 'D', 'C', 'D', 'D', 'A', 'A', 'F', 'D', 'D', 'C', 'F', 'A', 'F', 'D', 'A', 'D', 'C', 'C', 'F', 'A', 'D', 'A', 'F', 'C', 'F', 'A', 'D', 'A', 'C', 'C', 'D', 'F', 'A', 'A', 'D', 'D', 'A', 'F', 'A', 'D', 'A', 'D', 'A', 'A', 'D', 'C', 'C', 'D', 'A', 'D', 'A', 'F', 'F', 'F', 'C', 'D', 'F', 'F', 'C', 'F', 'D', 'F', 'D', 'A', 'C', 'C', 'C', 'A', 'D', 'C', 'A', 'C', 'D', 'C', 'F', 'F', 'C', 'C', 'A', 'C', 'A', 'F', 'F', 'F', 'D', 'C', 'C', 'D', 'A', 'F', 'D', 'A', 'F', 'C', 'D', 'A', 'C', 'D']\n",
      "{'A': 25, 'C': 25, 'D': 27, 'F': 23}\n"
     ]
    }
   ],
   "source": [
    "import random\n",
    "chodon=['A','C','D','F']\n",
    "dna=[]\n",
    "for i in range(100):\n",
    "    dna.append(random.choice(chodon))\n",
    "print(dna)\n",
    "dna_count={}\n",
    "for i in range(len(chodon)):\n",
    "    dna_count[chodon[i]]=dna.count(chodon[i])\n",
    "print(dna_count)    "
   ]
  },
  {
   "cell_type": "code",
   "execution_count": 127,
   "id": "b91d8753-b552-49fb-96de-a79762c1c218",
   "metadata": {},
   "outputs": [
    {
     "name": "stdout",
     "output_type": "stream",
     "text": [
      "1 6 6 2 2 2 4 4 6 2 6 3 4 1 2 1 2 1 5 4 2 4 3 6 3 4 4 5 5 4 3 6 6 3 6 5 4 1 5 6 3 4 5 5 4 4 6 5 4 2 5 5 1 6 5 5 2 4 6 1 3 2 2 1 6 4 3 6 1 5 6 2 1 6 5 6 2 3 5 3 2 1 1 1 2 1 2 3 2 1 2 2 2 1 3 3 1 6 6 3 "
     ]
    }
   ],
   "source": [
    "dice=[1,2,3,4,5,6]\n",
    "for i in range (100):\n",
    "    throughDice=random.choice(dice)\n",
    "    print(throughDice,end=\" \")\n"
   ]
  },
  {
   "cell_type": "code",
   "execution_count": 140,
   "id": "ababf940-4db3-4c44-b1c7-051f9c928ee6",
   "metadata": {},
   "outputs": [
    {
     "ename": "AttributeError",
     "evalue": "module 'random' has no attribute 'raident'",
     "output_type": "error",
     "traceback": [
      "\u001b[1;31m---------------------------------------------------------------------------\u001b[0m",
      "\u001b[1;31mAttributeError\u001b[0m                            Traceback (most recent call last)",
      "Cell \u001b[1;32mIn[140], line 3\u001b[0m\n\u001b[0;32m      1\u001b[0m dice\u001b[38;5;241m=\u001b[39m[]\n\u001b[0;32m      2\u001b[0m \u001b[38;5;28;01mfor\u001b[39;00m i \u001b[38;5;129;01min\u001b[39;00m \u001b[38;5;28mrange\u001b[39m(\u001b[38;5;241m100\u001b[39m):\n\u001b[1;32m----> 3\u001b[0m     dice\u001b[38;5;241m.\u001b[39mappend(random\u001b[38;5;241m.\u001b[39mraident(\u001b[38;5;241m1\u001b[39m,\u001b[38;5;241m7\u001b[39m))\n\u001b[0;32m      4\u001b[0m     \u001b[38;5;28mprint\u001b[39m(dice)\n",
      "\u001b[1;31mAttributeError\u001b[0m: module 'random' has no attribute 'raident'"
     ]
    }
   ],
   "source": [
    "dice=[]\n",
    "for i in range(100):\n",
    "    dice.append(random.raident(1,7))\n",
    "    print(dice)\n"
   ]
  },
  {
   "cell_type": "markdown",
   "id": "6b7a336b-51e5-451e-97c0-f7c22f11e65c",
   "metadata": {},
   "source": [
    "function"
   ]
  },
  {
   "cell_type": "code",
   "execution_count": 131,
   "id": "08b72988-fe02-48d4-9d6e-5ae72a0f4f6a",
   "metadata": {},
   "outputs": [
    {
     "name": "stdout",
     "output_type": "stream",
     "text": [
      "21.0\n"
     ]
    }
   ],
   "source": [
    "def f(x):\n",
    "    return x*2\n",
    "number=10.5;\n",
    "print(f(number))"
   ]
  },
  {
   "cell_type": "code",
   "execution_count": 133,
   "id": "493ce287-2840-428a-be31-d572d539396c",
   "metadata": {},
   "outputs": [
    {
     "name": "stdout",
     "output_type": "stream",
     "text": [
      "30\n",
      "-10\n"
     ]
    }
   ],
   "source": [
    "def f(x,y):\n",
    "    return x+y,x-y\n",
    "    \n",
    "add,sub=f(10,20)\n",
    "print(add)\n",
    "print(sub)\n"
   ]
  },
  {
   "cell_type": "code",
   "execution_count": 136,
   "id": "a237fae3-ac09-4c79-9cdf-3aeea2f098b1",
   "metadata": {},
   "outputs": [
    {
     "name": "stdout",
     "output_type": "stream",
     "text": [
      "300\n",
      "-100\n"
     ]
    }
   ],
   "source": [
    "def f(x=100,y=200):\n",
    "    return x+y,x-y\n",
    "    \n",
    "add,sub=f()\n",
    "print(add)\n",
    "print(sub)"
   ]
  },
  {
   "cell_type": "code",
   "execution_count": null,
   "id": "10db3ff4-375a-4a0d-a7a5-e56263c5a2fe",
   "metadata": {},
   "outputs": [],
   "source": []
  },
  {
   "cell_type": "code",
   "execution_count": null,
   "id": "7abfb1b9-551e-4f7f-9c7e-9aa9cec13021",
   "metadata": {},
   "outputs": [],
   "source": []
  }
 ],
 "metadata": {
  "kernelspec": {
   "display_name": "Python 3 (ipykernel)",
   "language": "python",
   "name": "python3"
  },
  "language_info": {
   "codemirror_mode": {
    "name": "ipython",
    "version": 3
   },
   "file_extension": ".py",
   "mimetype": "text/x-python",
   "name": "python",
   "nbconvert_exporter": "python",
   "pygments_lexer": "ipython3",
   "version": "3.12.4"
  }
 },
 "nbformat": 4,
 "nbformat_minor": 5
}
