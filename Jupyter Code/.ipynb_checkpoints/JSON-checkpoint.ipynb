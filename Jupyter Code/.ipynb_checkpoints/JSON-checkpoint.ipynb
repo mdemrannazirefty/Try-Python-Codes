{
 "cells": [
  {
   "cell_type": "markdown",
   "id": "6c37e5e7-6942-47ce-a314-84054e9862e0",
   "metadata": {},
   "source": [
    "# Python obj---> JSON string"
   ]
  },
  {
   "cell_type": "code",
   "execution_count": 18,
   "id": "b7b81972-b264-444e-bc89-3b4be41bdf38",
   "metadata": {},
   "outputs": [
    {
     "name": "stdout",
     "output_type": "stream",
     "text": [
      "{\n",
      "    \"Name\": \"name\",\n",
      "    \"Age\": 50,\n",
      "    \"Email\": \"email\",\n",
      "    \"hasChildren\": false,\n",
      "    \"Title\": [\n",
      "        \"address\",\n",
      "        \"engineer\"\n",
      "    ]\n",
      "}\n"
     ]
    }
   ],
   "source": [
    "import json\n",
    "\n",
    "person = {\n",
    "        \"Name\": \"name\",\n",
    "        \"Age\": 50,\n",
    "        \"Email\": \"email\",\n",
    "        \"hasChildren\": False,\n",
    "        \"Title\": [\"address\",\"engineer\"]\n",
    "    }\n",
    "personJSON=json.dumps(person, indent=4) #indent=4 for arrange\n",
    "\n",
    "print(personJSON)"
   ]
  },
  {
   "cell_type": "markdown",
   "id": "12dac5f3-256a-4bb2-8fa3-145e0a5b52fa",
   "metadata": {},
   "source": [
    "## Json string--> Python obj"
   ]
  },
  {
   "cell_type": "code",
   "execution_count": 24,
   "id": "012f27cf-499e-4f85-81d1-e6b1b537655a",
   "metadata": {},
   "outputs": [
    {
     "name": "stdout",
     "output_type": "stream",
     "text": [
      "{'Name': 'name', 'Age': 50, 'Email': 'email', 'hasChildren': False, 'Title': ['address', 'engineer']}\n"
     ]
    }
   ],
   "source": [
    "import json\n",
    "\n",
    "person='{\"Name\": \"name\",\"Age\": 50,\"Email\": \"email\",\"hasChildren\": false,\"Title\": [\"address\",\"engineer\"]}'\n",
    "x=json.loads(person)\n",
    "print(x)"
   ]
  },
  {
   "cell_type": "code",
   "execution_count": 26,
   "id": "7cc3d561-ac14-4ea0-8c00-436719ebc4ee",
   "metadata": {},
   "outputs": [
    {
     "name": "stdout",
     "output_type": "stream",
     "text": [
      "name\n"
     ]
    }
   ],
   "source": [
    "import json\n",
    "\n",
    "person='{\"Name\": \"name\",\"Age\": 50,\"Email\": \"email\",\"hasChildren\": false,\"Title\": [\"address\",\"engineer\"]}'\n",
    "x=json.loads(person)\n",
    "print(x ['Name']) "
   ]
  },
  {
   "cell_type": "markdown",
   "id": "edf2a9a8-4c85-460f-8726-5d0ce0368a5b",
   "metadata": {},
   "source": [
    "## Json string--> Python obj--> File write"
   ]
  },
  {
   "cell_type": "code",
   "execution_count": 31,
   "id": "c88054e7-df40-41a3-809e-5ef58b26ffa4",
   "metadata": {},
   "outputs": [],
   "source": [
    "import json\n",
    "\n",
    "person = {\n",
    "        \"Name\": \"name\",\n",
    "        \"Age\": 50,\n",
    "        \"Email\": \"email\",\n",
    "        \"hasChildren\": False,\n",
    "        \"Title\": [\"address\",\"engineer\"]\n",
    "    }\n",
    "with open (\"person.json\",\"w\") as personJSONFile:\n",
    "    json.dump(person,personJSONFile, indent=4)"
   ]
  },
  {
   "cell_type": "markdown",
   "id": "95d6b8e7-a09b-482e-b48c-08335f375ec5",
   "metadata": {},
   "source": [
    "## JSON File read--->Python Object--> JSON String"
   ]
  },
  {
   "cell_type": "code",
   "execution_count": 55,
   "id": "66c842fb-a457-4331-bb25-0d1e07f515bd",
   "metadata": {},
   "outputs": [
    {
     "name": "stdout",
     "output_type": "stream",
     "text": [
      "name\n",
      "{'Name': 'name', 'Age': 50, 'Email': 'email', 'hasChildren': False, 'Title': ['address', 'engineer']}\n",
      "{\n",
      "    \"Name\": \"name\",\n",
      "    \"Age\": 50,\n",
      "    \"Email\": \"email\",\n",
      "    \"hasChildren\": false,\n",
      "    \"Title\": [\n",
      "        \"address\",\n",
      "        \"engineer\"\n",
      "    ]\n",
      "}\n"
     ]
    }
   ],
   "source": [
    "import json\n",
    "\n",
    "#file-->Python Object\n",
    "with open(\"person.json\",\"r\") as personOBJFile:\n",
    "    personOBJ=json.load(personOBJFile)\n",
    "    print(personOBJ['Name']) #indivisual print\n",
    "    print(personOBJ) #all print\n",
    "\n",
    "    #Python Object-->JSON\n",
    "    personOBJ=json.dumps(personOBJ,indent=4)\n",
    "    print(personOBJ)"
   ]
  },
  {
   "cell_type": "code",
   "execution_count": null,
   "id": "4a47818c-f386-463b-9751-618b5b6a9217",
   "metadata": {},
   "outputs": [],
   "source": []
  }
 ],
 "metadata": {
  "kernelspec": {
   "display_name": "Python 3 (ipykernel)",
   "language": "python",
   "name": "python3"
  },
  "language_info": {
   "codemirror_mode": {
    "name": "ipython",
    "version": 3
   },
   "file_extension": ".py",
   "mimetype": "text/x-python",
   "name": "python",
   "nbconvert_exporter": "python",
   "pygments_lexer": "ipython3",
   "version": "3.12.4"
  }
 },
 "nbformat": 4,
 "nbformat_minor": 5
}
