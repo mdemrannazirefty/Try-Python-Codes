{
 "cells": [
  {
   "cell_type": "markdown",
   "id": "1650a5c5-18fb-462e-8386-7ddceeeed472",
   "metadata": {},
   "source": [
    "# Python Modules & Packages"
   ]
  },
  {
   "cell_type": "code",
   "execution_count": 28,
   "id": "27e63286-d40d-4132-8751-675089b42df1",
   "metadata": {},
   "outputs": [
    {
     "name": "stdout",
     "output_type": "stream",
     "text": [
      "9\n"
     ]
    }
   ],
   "source": [
    "import random\n",
    "\n",
    "n=random.randint(1,100) #1-100 ant one randint number\n",
    "print(n)"
   ]
  },
  {
   "cell_type": "code",
   "execution_count": 34,
   "id": "97ef3c16-93d7-4055-8574-89cd928a7fc9",
   "metadata": {},
   "outputs": [
    {
     "name": "stdout",
     "output_type": "stream",
     "text": [
      "77\n"
     ]
    }
   ],
   "source": [
    "from random import randint\n",
    "\n",
    "n=randint(1,100) #1-100 ant one randint number\n",
    "print(n)"
   ]
  },
  {
   "cell_type": "code",
   "execution_count": 36,
   "id": "da3ea87d-9afd-4008-8092-4901e0fcd286",
   "metadata": {},
   "outputs": [
    {
     "name": "stdout",
     "output_type": "stream",
     "text": [
      "26\n"
     ]
    }
   ],
   "source": [
    "from random import randint as rr #short\n",
    "\n",
    "n=rr(1,100) #1-100 ant one randint number\n",
    "print(n)"
   ]
  },
  {
   "cell_type": "markdown",
   "id": "cc0baebf-ae3c-4fc8-b035-80913b0f2a5b",
   "metadata": {},
   "source": [
    "### For list Choice"
   ]
  },
  {
   "cell_type": "code",
   "execution_count": 40,
   "id": "fd9456d1-06f9-4b79-b6a6-fb7ec9f9f73a",
   "metadata": {},
   "outputs": [
    {
     "name": "stdout",
     "output_type": "stream",
     "text": [
      "61\n",
      "1\n"
     ]
    }
   ],
   "source": [
    "from random import randint, choice\n",
    "n=randint(1,100) #1-100 ant one randint number\n",
    "print(n)\n",
    "\n",
    "x=[1,2,3,4,5,6]\n",
    "print(choice(x)) #from this 6 number"
   ]
  },
  {
   "cell_type": "code",
   "execution_count": 42,
   "id": "5cd11d56-8458-466a-bbc5-a0cc180d2203",
   "metadata": {},
   "outputs": [
    {
     "name": "stdout",
     "output_type": "stream",
     "text": [
      "38\n",
      "6\n"
     ]
    }
   ],
   "source": [
    "import random \n",
    "n=random.randint(1,100) #1-100 ant one randint number\n",
    "print(n)\n",
    "\n",
    "x=[1,2,3,4,5,6]\n",
    "print(random.choice(x)) #from this 6 number"
   ]
  },
  {
   "cell_type": "markdown",
   "id": "0e471688-caf8-438b-a980-1fb16a8ae921",
   "metadata": {},
   "source": [
    "### Machine Learning/data science"
   ]
  },
  {
   "cell_type": "code",
   "execution_count": null,
   "id": "50cf1b92-033a-4d7c-ab8e-71d4a7716bbc",
   "metadata": {},
   "outputs": [],
   "source": [
    "import pandas as pd\n",
    "import numpy as np\n",
    "\n"
   ]
  },
  {
   "cell_type": "code",
   "execution_count": 48,
   "id": "cf1cfb0b-b558-4b1b-acbc-6ffa0f89d6ec",
   "metadata": {},
   "outputs": [
    {
     "name": "stdout",
     "output_type": "stream",
     "text": [
      "26\n",
      "3\n"
     ]
    }
   ],
   "source": [
    "import time\n",
    "\n",
    "n=random.randint(1,100) #1-100 ant one randint number\n",
    "print(n)\n",
    "\n",
    "time.sleep(5) #5s delay\n",
    "x=[1,2,3,4,5,6]\n",
    "print(random.choice(x)) \n"
   ]
  },
  {
   "cell_type": "markdown",
   "id": "e76dc450-8662-4d2e-8ce1-679503a45cc8",
   "metadata": {},
   "source": [
    "### For datetime"
   ]
  },
  {
   "cell_type": "code",
   "execution_count": 61,
   "id": "1aa4f37c-d8ac-4cc6-9287-eb465385fb1e",
   "metadata": {},
   "outputs": [
    {
     "name": "stdout",
     "output_type": "stream",
     "text": [
      "2024-12-13 03:01:07.376772\n"
     ]
    }
   ],
   "source": [
    "import datetime\n",
    "\n",
    "print(datetime.datetime.now())  #todays time\n"
   ]
  },
  {
   "cell_type": "code",
   "execution_count": 97,
   "id": "4db0a3b1-ee0c-4bdc-a18f-85622b693102",
   "metadata": {},
   "outputs": [
    {
     "name": "stdout",
     "output_type": "stream",
     "text": [
      "2024\n",
      "12\n",
      "13\n",
      "03:16:02.124585\n",
      "4\n",
      "3\n",
      "16\n",
      "2\n"
     ]
    }
   ],
   "source": [
    "import datetime\n",
    "\n",
    "x=datetime.datetime.now()\n",
    "print(x.year)\n",
    "print(x.month)\n",
    "print(x.day)\n",
    "print(x.time())\n",
    "print(x.weekday())\n",
    "print(x.hour)\n",
    "print(x.minute)\n",
    "print(x.second)"
   ]
  },
  {
   "cell_type": "markdown",
   "id": "ff23a9e0-5ed5-4b1a-bf67-81e340fcdb42",
   "metadata": {},
   "source": [
    "#### DAte Formating"
   ]
  },
  {
   "cell_type": "code",
   "execution_count": 126,
   "id": "970ac4c4-65ba-4240-a3cc-0e8e8cfd8f1b",
   "metadata": {},
   "outputs": [
    {
     "name": "stdout",
     "output_type": "stream",
     "text": [
      "13/12/24 03:22\n"
     ]
    }
   ],
   "source": [
    "import datetime\n",
    "\n",
    "x=datetime.datetime.now()\n",
    "formated_date=x.strftime(\"%d/%m/%y %H:%M\")\n",
    "print(formated_date)"
   ]
  },
  {
   "cell_type": "markdown",
   "id": "4bec1dbe-2b38-46e6-a22c-9771a1ee34d5",
   "metadata": {},
   "source": [
    "### Date Difference"
   ]
  },
  {
   "cell_type": "code",
   "execution_count": 128,
   "id": "3bdb6565-1dc9-4f95-b65b-3d11dd969f10",
   "metadata": {},
   "outputs": [
    {
     "name": "stdout",
     "output_type": "stream",
     "text": [
      "366 days, 0:00:00\n"
     ]
    }
   ],
   "source": [
    "import datetime\n",
    "\n",
    "date1=datetime.datetime(2024,9,1)\n",
    "date2=datetime.datetime(2023,9,1)\n",
    "\n",
    "difference=date1-date2\n",
    "print(difference)"
   ]
  },
  {
   "cell_type": "code",
   "execution_count": 158,
   "id": "6ed8b11c-7d8e-4826-afab-e6906d638282",
   "metadata": {},
   "outputs": [
    {
     "name": "stdout",
     "output_type": "stream",
     "text": [
      "366 days, 0:00:00\n",
      "2024-09-11 00:00:00\n",
      "2024-08-27 00:00:00\n"
     ]
    }
   ],
   "source": [
    "import datetime\n",
    "\n",
    "date1=datetime.datetime(2024,9,1)\n",
    "date2=datetime.datetime(2023,9,1)\n",
    "\n",
    "difference=date1-date2\n",
    "print(difference)\n",
    "\n",
    "adddate=date1+datetime.timedelta(days=10) #date addition 10 days\n",
    "print(plusdate)\n",
    "\n",
    "subdate=date1-datetime.timedelta(days=5) #date substack 10 days\n",
    "print(subdate)"
   ]
  },
  {
   "cell_type": "markdown",
   "id": "de904b75-8402-4c45-ab12-256a29271c2b",
   "metadata": {},
   "source": [
    "### Math Modiolus"
   ]
  },
  {
   "cell_type": "code",
   "execution_count": 160,
   "id": "c1772143-bac7-412d-ad4c-da08afb9269b",
   "metadata": {},
   "outputs": [
    {
     "name": "stdout",
     "output_type": "stream",
     "text": [
      "4.0\n"
     ]
    }
   ],
   "source": [
    "import math\n",
    "\n",
    "x=math.sqrt(16)\n",
    "print(x)"
   ]
  },
  {
   "cell_type": "markdown",
   "id": "a567eff0-47d3-473a-b67e-9a0db44a0e24",
   "metadata": {},
   "source": [
    "### OS modiolus (current directory)"
   ]
  },
  {
   "cell_type": "code",
   "execution_count": 164,
   "id": "f88486ff-247c-4dfb-aa4b-9cb99b38f91f",
   "metadata": {},
   "outputs": [
    {
     "name": "stdout",
     "output_type": "stream",
     "text": [
      "E:\\Others\\Try Python Codes\\Jupyter Code\n"
     ]
    }
   ],
   "source": [
    "import os\n",
    "\n",
    "x= os.getcwd()\n",
    "print(x)"
   ]
  },
  {
   "cell_type": "markdown",
   "id": "cc4a60e7-efe4-4ef3-a657-87e09b1a4626",
   "metadata": {},
   "source": [
    "## Run Time Version"
   ]
  },
  {
   "cell_type": "code",
   "execution_count": 176,
   "id": "8fa34f34-a274-41e6-8262-846372a713f8",
   "metadata": {},
   "outputs": [
    {
     "name": "stdout",
     "output_type": "stream",
     "text": [
      "3.12.4 | packaged by Anaconda, Inc. | (main, Jun 18 2024, 15:03:56) [MSC v.1929 64 bit (AMD64)]\n"
     ]
    }
   ],
   "source": [
    "import sys\n",
    "\n",
    "x=sys.version\n",
    "print(x)"
   ]
  },
  {
   "cell_type": "code",
   "execution_count": null,
   "id": "32355338-19ab-487e-a20f-229979be8951",
   "metadata": {},
   "outputs": [],
   "source": []
  },
  {
   "cell_type": "markdown",
   "id": "a9c49b9b-fbb4-4caa-aec3-edcf2e3bf7f4",
   "metadata": {},
   "source": [
    "### import all"
   ]
  },
  {
   "cell_type": "code",
   "execution_count": 73,
   "id": "bd9e47f0-7c8c-4580-a8d0-826d32ccbf5d",
   "metadata": {},
   "outputs": [
    {
     "name": "stdout",
     "output_type": "stream",
     "text": [
      "85\n"
     ]
    }
   ],
   "source": [
    "from random import * #import all\n",
    "print(randint(50,100))\n"
   ]
  },
  {
   "cell_type": "code",
   "execution_count": 75,
   "id": "b207dbec-3bc4-42f2-ba25-ad67233528c0",
   "metadata": {},
   "outputs": [
    {
     "name": "stdout",
     "output_type": "stream",
     "text": [
      "65\n"
     ]
    }
   ],
   "source": [
    "from random import * #import all\n",
    "import random\n",
    "\n",
    "print(randint(50,100))\n"
   ]
  },
  {
   "cell_type": "code",
   "execution_count": 79,
   "id": "44b1f882-d965-4faa-9492-97f0d556943f",
   "metadata": {},
   "outputs": [
    {
     "name": "stdout",
     "output_type": "stream",
     "text": [
      "2024-12-12 21:07:23.499781\n"
     ]
    },
    {
     "name": "stderr",
     "output_type": "stream",
     "text": [
      "C:\\Users\\mdemr\\AppData\\Local\\Temp\\ipykernel_11936\\205472158.py:2: DeprecationWarning: datetime.datetime.utcnow() is deprecated and scheduled for removal in a future version. Use timezone-aware objects to represent datetimes in UTC: datetime.datetime.now(datetime.UTC).\n",
      "  print(datetime.utcnow())\n"
     ]
    }
   ],
   "source": [
    "from datetime import * #import all\n",
    "print(datetime.utcnow())\n"
   ]
  },
  {
   "cell_type": "code",
   "execution_count": 85,
   "id": "3d7770b3-c95b-44a2-b07a-7a0d56f1a85e",
   "metadata": {},
   "outputs": [
    {
     "name": "stdout",
     "output_type": "stream",
     "text": [
      "2024-12-12 21:09:07.132543\n"
     ]
    },
    {
     "name": "stderr",
     "output_type": "stream",
     "text": [
      "C:\\Users\\mdemr\\AppData\\Local\\Temp\\ipykernel_11936\\2922899957.py:2: DeprecationWarning: datetime.datetime.utcnow() is deprecated and scheduled for removal in a future version. Use timezone-aware objects to represent datetimes in UTC: datetime.datetime.now(datetime.UTC).\n",
      "  print(datetime.datetime.utcnow())\n"
     ]
    }
   ],
   "source": [
    "import datetime\n",
    "print(datetime.datetime.utcnow())\n"
   ]
  },
  {
   "cell_type": "markdown",
   "id": "dbf0b7dc-40d1-4907-92ef-51774202935c",
   "metadata": {},
   "source": [
    "# Url call like browser"
   ]
  },
  {
   "cell_type": "markdown",
   "id": "79a02efb-9cb6-494b-8dd2-163fbe7aee7d",
   "metadata": {},
   "source": [
    "## Http Modiolus"
   ]
  },
  {
   "cell_type": "code",
   "execution_count": 185,
   "id": "c4d7082d-350b-4313-97e4-5fa7d1016420",
   "metadata": {},
   "outputs": [
    {
     "name": "stdout",
     "output_type": "stream",
     "text": [
      "302\n",
      "Report-To: {\"group\":\"heroku-nel\",\"max_age\":3600,\"endpoints\":[{\"url\":\"https://nel.heroku.com/reports?ts=1734045605&sid=e11707d5-02a7-43ef-b45e-2cf4d2036f7d&s=N7UACE4YvsgqhNUdMRNNpLQXRkluySlWiaxA2WgUHEg%3D\"}]}\n",
      "Reporting-Endpoints: heroku-nel=https://nel.heroku.com/reports?ts=1734045605&sid=e11707d5-02a7-43ef-b45e-2cf4d2036f7d&s=N7UACE4YvsgqhNUdMRNNpLQXRkluySlWiaxA2WgUHEg%3D\n",
      "Nel: {\"report_to\":\"heroku-nel\",\"max_age\":3600,\"success_fraction\":0.005,\"failure_fraction\":0.05,\"response_headers\":[\"Via\"]}\n",
      "Connection: keep-alive\n",
      "Access-Control-Allow-Origin: *\n",
      "X-Dns-Prefetch-Control: off\n",
      "X-Frame-Options: SAMEORIGIN\n",
      "Strict-Transport-Security: max-age=15552000; includeSubDomains\n",
      "X-Download-Options: noopen\n",
      "X-Content-Type-Options: nosniff\n",
      "X-Xss-Protection: 1; mode=block\n",
      "X-Powered-By: Cats on Keyboards\n",
      "Server: BobTheBuilder\n",
      "X-Ratelimit-Limit: 100\n",
      "X-Ratelimit-Remaining: 99\n",
      "Date: Thu, 12 Dec 2024 23:20:05 GMT\n",
      "X-Ratelimit-Reset: 1734045610\n",
      "Location: https://dummyjson.com/test\n",
      "Vary: Accept, Accept-Encoding\n",
      "Content-Type: text/plain; charset=utf-8\n",
      "Content-Length: 48\n",
      "Via: 1.1 vegur\n",
      "\n",
      "\n",
      "b'Found. Redirecting to https://dummyjson.com/test'\n"
     ]
    }
   ],
   "source": [
    "import http.client\n",
    "\n",
    "#dummyjson.com/test\n",
    "conn=http.client.HTTPConnection(\"dummyjson.com\")\n",
    "conn.request(\"GET\",'/test')\n",
    "\n",
    "response=conn.getresponse()\n",
    "print(response.status)\n",
    "print(response.headers)\n",
    "print(response.read())\n"
   ]
  },
  {
   "cell_type": "markdown",
   "id": "028deacd-f921-4202-86d9-54e3eaef7c1f",
   "metadata": {},
   "source": [
    "#### Response status"
   ]
  },
  {
   "cell_type": "code",
   "execution_count": 135,
   "id": "2e325437-3d33-4717-95ee-551cc733de88",
   "metadata": {},
   "outputs": [
    {
     "name": "stdout",
     "output_type": "stream",
     "text": [
      "200\n"
     ]
    }
   ],
   "source": [
    "import http.client\n",
    "\n",
    "#connection\n",
    "conn= http.client.HTTPSConnection(\"dummyjson.com\")\n",
    "\n",
    "#HTTP/HTTPS request\n",
    "conn.request(\"GET\",\"/todos\")\n",
    "\n",
    "#response\n",
    "response=conn.getresponse()\n",
    "\n",
    "#response status code\n",
    "print(response.status)\n",
    "\n",
    "#response header\n",
    "#print(response.headers)\n",
    "#response Body\n",
    "#print(response.read())"
   ]
  },
  {
   "cell_type": "markdown",
   "id": "b8539c38-0d4b-4b51-b99b-80de5ff301cd",
   "metadata": {},
   "source": [
    "#### response header"
   ]
  },
  {
   "cell_type": "code",
   "execution_count": 147,
   "id": "273dc5e2-e172-4eb2-bbfa-a2acc018cea9",
   "metadata": {},
   "outputs": [
    {
     "name": "stdout",
     "output_type": "stream",
     "text": [
      "Report-To: {\"group\":\"heroku-nel\",\"max_age\":3600,\"endpoints\":[{\"url\":\"https://nel.heroku.com/reports?ts=1734039755&sid=e11707d5-02a7-43ef-b45e-2cf4d2036f7d&s=LfOa%2BpTiTvytdnKuCR7%2B92By1m8DoNqsl42HZ0q%2FsLw%3D\"}]}\n",
      "Reporting-Endpoints: heroku-nel=https://nel.heroku.com/reports?ts=1734039755&sid=e11707d5-02a7-43ef-b45e-2cf4d2036f7d&s=LfOa%2BpTiTvytdnKuCR7%2B92By1m8DoNqsl42HZ0q%2FsLw%3D\n",
      "Nel: {\"report_to\":\"heroku-nel\",\"max_age\":3600,\"success_fraction\":0.005,\"failure_fraction\":0.05,\"response_headers\":[\"Via\"]}\n",
      "Connection: keep-alive\n",
      "Access-Control-Allow-Origin: *\n",
      "X-Dns-Prefetch-Control: off\n",
      "X-Frame-Options: SAMEORIGIN\n",
      "Strict-Transport-Security: max-age=15552000; includeSubDomains\n",
      "X-Download-Options: noopen\n",
      "X-Content-Type-Options: nosniff\n",
      "X-Xss-Protection: 1; mode=block\n",
      "X-Powered-By: Cats on Keyboards\n",
      "Server: BobTheBuilder\n",
      "X-Ratelimit-Limit: 100\n",
      "X-Ratelimit-Remaining: 99\n",
      "Date: Thu, 12 Dec 2024 21:42:35 GMT\n",
      "X-Ratelimit-Reset: 1734039760\n",
      "Content-Type: application/json; charset=utf-8\n",
      "Content-Length: 2464\n",
      "Etag: W/\"9a0-8KcnGMp/K5GZu5Dv8JxpHRl0fa8\"\n",
      "Vary: Accept-Encoding\n",
      "Via: 1.1 vegur\n",
      "\n",
      "\n"
     ]
    }
   ],
   "source": [
    "import http.client\n",
    "\n",
    "#connection\n",
    "conn= http.client.HTTPSConnection(\"dummyjson.com\")\n",
    "\n",
    "#HTTP/HTTPS request\n",
    "conn.request(\"GET\",\"/todos\")\n",
    "\n",
    "#response\n",
    "response=conn.getresponse()\n",
    "\n",
    "#response status code\n",
    "#print(response.status)\n",
    "\n",
    "#response header\n",
    "print(response.headers)\n",
    "#response Body\n",
    "#print(response.read())"
   ]
  },
  {
   "cell_type": "markdown",
   "id": "0419b92f-f031-4ba8-a061-ea863643dca5",
   "metadata": {},
   "source": [
    "#### Eesponse Body"
   ]
  },
  {
   "cell_type": "code",
   "execution_count": 152,
   "id": "788ff6eb-dc6a-4d60-8b18-05aa2e53a27d",
   "metadata": {},
   "outputs": [
    {
     "name": "stdout",
     "output_type": "stream",
     "text": [
      "b'{\"todos\":[{\"id\":1,\"todo\":\"Do something nice for someone you care about\",\"completed\":false,\"userId\":152},{\"id\":2,\"todo\":\"Memorize a poem\",\"completed\":true,\"userId\":13},{\"id\":3,\"todo\":\"Watch a classic movie\",\"completed\":true,\"userId\":68},{\"id\":4,\"todo\":\"Watch a documentary\",\"completed\":false,\"userId\":84},{\"id\":5,\"todo\":\"Invest in cryptocurrency\",\"completed\":false,\"userId\":163},{\"id\":6,\"todo\":\"Contribute code or a monetary donation to an open-source software project\",\"completed\":false,\"userId\":69},{\"id\":7,\"todo\":\"Solve a Rubik\\'s cube\",\"completed\":true,\"userId\":76},{\"id\":8,\"todo\":\"Bake pastries for yourself and neighbor\",\"completed\":true,\"userId\":198},{\"id\":9,\"todo\":\"Go see a Broadway production\",\"completed\":false,\"userId\":7},{\"id\":10,\"todo\":\"Write a thank you letter to an influential person in your life\",\"completed\":true,\"userId\":9},{\"id\":11,\"todo\":\"Invite some friends over for a game night\",\"completed\":false,\"userId\":104},{\"id\":12,\"todo\":\"Have a football scrimmage with some friends\",\"completed\":false,\"userId\":32},{\"id\":13,\"todo\":\"Text a friend you haven\\'t talked to in a long time\",\"completed\":true,\"userId\":2},{\"id\":14,\"todo\":\"Organize pantry\",\"completed\":false,\"userId\":46},{\"id\":15,\"todo\":\"Buy a new house decoration\",\"completed\":true,\"userId\":105},{\"id\":16,\"todo\":\"Plan a vacation you\\'ve always wanted to take\",\"completed\":true,\"userId\":162},{\"id\":17,\"todo\":\"Clean out car\",\"completed\":false,\"userId\":71},{\"id\":18,\"todo\":\"Draw and color a Mandala\",\"completed\":true,\"userId\":6},{\"id\":19,\"todo\":\"Create a cookbook with favorite recipes\",\"completed\":true,\"userId\":53},{\"id\":20,\"todo\":\"Bake a pie with some friends\",\"completed\":false,\"userId\":162},{\"id\":21,\"todo\":\"Create a compost pile\",\"completed\":false,\"userId\":13},{\"id\":22,\"todo\":\"Take a hike at a local park\",\"completed\":true,\"userId\":37},{\"id\":23,\"todo\":\"Take a class at local community center that interests you\",\"completed\":true,\"userId\":65},{\"id\":24,\"todo\":\"Research a topic interested in\",\"completed\":true,\"userId\":130},{\"id\":25,\"todo\":\"Plan a trip to another country\",\"completed\":false,\"userId\":140},{\"id\":26,\"todo\":\"Improve touch typing\",\"completed\":false,\"userId\":178},{\"id\":27,\"todo\":\"Learn Express.js\",\"completed\":false,\"userId\":194},{\"id\":28,\"todo\":\"Learn calligraphy\",\"completed\":false,\"userId\":80},{\"id\":29,\"todo\":\"Have a photo session with some friends\",\"completed\":true,\"userId\":91},{\"id\":30,\"todo\":\"Go to the gym\",\"completed\":true,\"userId\":142}],\"total\":254,\"skip\":0,\"limit\":30}'\n"
     ]
    }
   ],
   "source": [
    "import http.client\n",
    "\n",
    "#connection\n",
    "conn= http.client.HTTPSConnection(\"dummyjson.com\")\n",
    "\n",
    "#HTTP/HTTPS request\n",
    "conn.request(\"GET\",\"/todos\")\n",
    "\n",
    "#response\n",
    "response=conn.getresponse()\n",
    "\n",
    "#response status code\n",
    "#print(response.status)\n",
    "\n",
    "#response header\n",
    "#print(response.headers)\n",
    "\n",
    "#response Body\n",
    "print(response.read())"
   ]
  },
  {
   "cell_type": "markdown",
   "id": "331b2510-0d94-4b0d-859a-9c152f5efa12",
   "metadata": {},
   "source": [
    "### SubProcess Modules"
   ]
  },
  {
   "cell_type": "code",
   "execution_count": 188,
   "id": "fcc88a78-be75-4750-88cd-b067cdb13d9f",
   "metadata": {},
   "outputs": [
    {
     "name": "stdout",
     "output_type": "stream",
     "text": [
      "Python 3.12.4\n",
      "\n"
     ]
    }
   ],
   "source": [
    "import subprocess\n",
    "\n",
    "result=subprocess.run(\n",
    "    ['python','--version'],\n",
    "    capture_output=True,\n",
    "    text=True\n",
    ")\n",
    "\n",
    "print(result.stdout)"
   ]
  },
  {
   "cell_type": "markdown",
   "id": "99a8548f-e07c-4a3a-a6f7-e987184af96f",
   "metadata": {},
   "source": [
    "### Hashlib"
   ]
  },
  {
   "cell_type": "code",
   "execution_count": 191,
   "id": "51a06c3a-f4a2-44cd-bbdc-25dcdfd87354",
   "metadata": {},
   "outputs": [
    {
     "name": "stdout",
     "output_type": "stream",
     "text": [
      "bd8c391f7f7a0c9a419808f48b426251b62610196eae7e2932bf05f578ee70e2\n"
     ]
    }
   ],
   "source": [
    "import hashlib\n",
    "\n",
    "password=b\"Abcd123\"\n",
    "\n",
    "hasobj=hashlib.sha256(password)\n",
    "print(hasobj.hexdigest())"
   ]
  },
  {
   "cell_type": "markdown",
   "id": "b6757c56-5218-491e-87f9-1ce4a1b5766e",
   "metadata": {},
   "source": [
    "### CSV"
   ]
  },
  {
   "cell_type": "code",
   "execution_count": null,
   "id": "89707eb6-9c72-40d2-83f4-2ef994bfd3a8",
   "metadata": {},
   "outputs": [],
   "source": [
    "import csv\n",
    "\n",
    "with open('create.csv','w') as file: #creating CSV FIle\n",
    "    writer=csv.write(file)\n",
    "    writer.writerow(['Name','Efty')\n",
    "    writer.writerow(['Age','25')\n",
    "    writer.writerow(['DAte','13 Dec 2024')"
   ]
  }
 ],
 "metadata": {
  "kernelspec": {
   "display_name": "Python 3 (ipykernel)",
   "language": "python",
   "name": "python3"
  },
  "language_info": {
   "codemirror_mode": {
    "name": "ipython",
    "version": 3
   },
   "file_extension": ".py",
   "mimetype": "text/x-python",
   "name": "python",
   "nbconvert_exporter": "python",
   "pygments_lexer": "ipython3",
   "version": "3.12.4"
  }
 },
 "nbformat": 4,
 "nbformat_minor": 5
}
