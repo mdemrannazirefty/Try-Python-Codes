{
 "cells": [
  {
   "cell_type": "markdown",
   "id": "e7bba51d-86ac-4491-9f9d-769796a740d0",
   "metadata": {},
   "source": [
    "# Class Type"
   ]
  },
  {
   "cell_type": "code",
   "execution_count": 1,
   "id": "efb10dc3-3dc5-48cb-85c6-7e9c50a62d96",
   "metadata": {},
   "outputs": [
    {
     "name": "stdout",
     "output_type": "stream",
     "text": [
      "<class 'list'>\n"
     ]
    }
   ],
   "source": [
    "li=[1,2,3]\n",
    "print(type(li))"
   ]
  },
  {
   "cell_type": "markdown",
   "id": "cada39e1-7fe7-41f5-ac97-f01a6cfe1f49",
   "metadata": {},
   "source": [
    "# Print All Classes name "
   ]
  },
  {
   "cell_type": "code",
   "execution_count": 17,
   "id": "61226c27-34d0-4ada-bb40-5be9246f2962",
   "metadata": {},
   "outputs": [
    {
     "name": "stdout",
     "output_type": "stream",
     "text": [
      "['__abs__', '__add__', '__and__', '__bool__', '__ceil__', '__class__', '__delattr__', '__dir__', '__divmod__', '__doc__', '__eq__', '__float__', '__floor__', '__floordiv__', '__format__', '__ge__', '__getattribute__', '__getnewargs__', '__getstate__', '__gt__', '__hash__', '__index__', '__init__', '__init_subclass__', '__int__', '__invert__', '__le__', '__lshift__', '__lt__', '__mod__', '__mul__', '__ne__', '__neg__', '__new__', '__or__', '__pos__', '__pow__', '__radd__', '__rand__', '__rdivmod__', '__reduce__', '__reduce_ex__', '__repr__', '__rfloordiv__', '__rlshift__', '__rmod__', '__rmul__', '__ror__', '__round__', '__rpow__', '__rrshift__', '__rshift__', '__rsub__', '__rtruediv__', '__rxor__', '__setattr__', '__sizeof__', '__str__', '__sub__', '__subclasshook__', '__truediv__', '__trunc__', '__xor__', 'as_integer_ratio', 'bit_count', 'bit_length', 'conjugate', 'denominator', 'from_bytes', 'imag', 'is_integer', 'numerator', 'real', 'to_bytes']\n"
     ]
    }
   ],
   "source": [
    "x=10\n",
    "print(dir(x))"
   ]
  },
  {
   "cell_type": "code",
   "execution_count": 5,
   "id": "b61d9239-a79f-46e2-b75b-b3cd4cb55ee8",
   "metadata": {},
   "outputs": [
    {
     "name": "stdout",
     "output_type": "stream",
     "text": [
      "['__add__', '__class__', '__class_getitem__', '__contains__', '__delattr__', '__delitem__', '__dir__', '__doc__', '__eq__', '__format__', '__ge__', '__getattribute__', '__getitem__', '__getstate__', '__gt__', '__hash__', '__iadd__', '__imul__', '__init__', '__init_subclass__', '__iter__', '__le__', '__len__', '__lt__', '__mul__', '__ne__', '__new__', '__reduce__', '__reduce_ex__', '__repr__', '__reversed__', '__rmul__', '__setattr__', '__setitem__', '__sizeof__', '__str__', '__subclasshook__', 'append', 'clear', 'copy', 'count', 'extend', 'index', 'insert', 'pop', 'remove', 'reverse', 'sort']\n"
     ]
    }
   ],
   "source": [
    "li=[1,2,3]\n",
    "print(dir(li))"
   ]
  },
  {
   "cell_type": "markdown",
   "id": "2eea2b39-88c6-432d-a281-459976dbc7e5",
   "metadata": {},
   "source": [
    "# Reverse list"
   ]
  },
  {
   "cell_type": "code",
   "execution_count": 15,
   "id": "5c480e4b-e36e-4a17-801b-9bd717678ae2",
   "metadata": {},
   "outputs": [
    {
     "name": "stdout",
     "output_type": "stream",
     "text": [
      "[4, 3, 2, 1]\n"
     ]
    }
   ],
   "source": [
    "li=[1,2,3,4]\n",
    "li.reverse()\n",
    "print((li))"
   ]
  },
  {
   "cell_type": "markdown",
   "id": "214e4898-079f-4661-96b1-2f71ae5ff595",
   "metadata": {},
   "source": [
    "# Class"
   ]
  },
  {
   "cell_type": "code",
   "execution_count": 32,
   "id": "0e4f5db8-0c8a-4956-a6af-c88e65adc0f9",
   "metadata": {},
   "outputs": [
    {
     "name": "stdout",
     "output_type": "stream",
     "text": [
      "<class '__main__.MyClass'>\n"
     ]
    }
   ],
   "source": [
    "class MyClass:\n",
    "    pass\n",
    "\n",
    "obj=MyClass()\n",
    "print(type(obj))"
   ]
  },
  {
   "cell_type": "code",
   "execution_count": 34,
   "id": "057d3312-3cae-42de-b998-d173212c3b9a",
   "metadata": {},
   "outputs": [
    {
     "name": "stdout",
     "output_type": "stream",
     "text": [
      "10\n"
     ]
    }
   ],
   "source": [
    "class MyClass:\n",
    "    value=10\n",
    "\n",
    "obj=MyClass()\n",
    "print(obj.value)"
   ]
  },
  {
   "cell_type": "markdown",
   "id": "d584a878-deab-4759-a69c-743ed9b7c0e5",
   "metadata": {},
   "source": [
    "# Class, Instance Variable"
   ]
  },
  {
   "cell_type": "code",
   "execution_count": 40,
   "id": "c775b729-79ac-4b8a-99de-5b24bfd80b4e",
   "metadata": {},
   "outputs": [
    {
     "name": "stdout",
     "output_type": "stream",
     "text": [
      "10\n",
      "10\n"
     ]
    }
   ],
   "source": [
    "class MyClass:\n",
    "    value=10\n",
    "\n",
    "obj=MyClass()\n",
    "print(obj.value)\n",
    "\n",
    "obj.value=50\n",
    "\n",
    "obj2=MyClass()\n",
    "print(obj2.value)"
   ]
  },
  {
   "cell_type": "code",
   "execution_count": 57,
   "id": "9cfa3540-5e37-445d-b454-e37f4d605519",
   "metadata": {},
   "outputs": [
    {
     "name": "stdout",
     "output_type": "stream",
     "text": [
      "White Black\n",
      "White\n"
     ]
    }
   ],
   "source": [
    "class car:\n",
    "    colour=\"White\"\n",
    "    \n",
    "c=car()  \n",
    "c2=car()\n",
    "c2.colour=\"Black\" #Instance value change\n",
    "print(c.colour,c2.colour)\n",
    "print(car.colour) #Class call with value directly\n"
   ]
  },
  {
   "cell_type": "code",
   "execution_count": 63,
   "id": "43c275ac-3a65-46d9-8d9b-269f3ff9e62e",
   "metadata": {},
   "outputs": [
    {
     "name": "stdout",
     "output_type": "stream",
     "text": [
      "First car Print all item\n",
      "White Toyota Corolla\n"
     ]
    }
   ],
   "source": [
    "class car:\n",
    "    colour=\"White\"\n",
    "    mf=\"Toyota\"\n",
    "    brand=\"Corolla\"\n",
    "\n",
    "c=car()  \n",
    "print(\"First car Print all item\")\n",
    "print(c.colour,c.mf,c.brand)\n"
   ]
  },
  {
   "cell_type": "markdown",
   "id": "46be5ae9-5410-41b2-8c27-09e9323ee5db",
   "metadata": {},
   "source": [
    "# Class with Constructor"
   ]
  },
  {
   "cell_type": "code",
   "execution_count": 77,
   "id": "182bdac1-3f18-4c18-9e53-32713fd5908c",
   "metadata": {},
   "outputs": [
    {
     "name": "stdout",
     "output_type": "stream",
     "text": [
      "im constructor,called\n",
      "im constructor,called\n",
      "im constructor,called\n",
      "First car Print all item\n",
      "White Toyota Corolla\n"
     ]
    }
   ],
   "source": [
    "class car:\n",
    "    colour=\"White\"\n",
    "    mf=\"Toyota\"\n",
    "    brand=\"Corolla\"\n",
    "    def __init__(self): #constructor\n",
    "        print(\"im constructor,called\")\n",
    "        \n",
    "c=car()  \n",
    "c2=car()\n",
    "c3=car()\n",
    "print(\"First car Print all item\")\n",
    "print(c.colour,c.mf,c.brand)\n"
   ]
  },
  {
   "cell_type": "code",
   "execution_count": 99,
   "id": "e26b5fe5-3858-41dd-95f8-6370aa6dca72",
   "metadata": {},
   "outputs": [
    {
     "name": "stdout",
     "output_type": "stream",
     "text": [
      "First car Print all item\n",
      "REd Toyota Crown\n"
     ]
    }
   ],
   "source": [
    "class car:\n",
    "    \n",
    "    def __init__(self,a,b,c): #constructor\n",
    "        self.make=a\n",
    "        self.model=b\n",
    "        self.colour=c\n",
    "    \n",
    "c=car(\"Toyota\",\"Crown\",\"REd\")  \n",
    "\n",
    "print(\"First car Print all item\")\n",
    "print(c.colour,c.make,c.model)\n"
   ]
  },
  {
   "cell_type": "code",
   "execution_count": 105,
   "id": "bf858c64-7df2-4af2-8250-696420614e08",
   "metadata": {},
   "outputs": [
    {
     "name": "stdout",
     "output_type": "stream",
     "text": [
      "Toyota Crown REd\n",
      "Toyota Corolla Bronze\n"
     ]
    }
   ],
   "source": [
    "class car:\n",
    "    \n",
    "    def __init__(self,a,b,c): #constructor\n",
    "        self.make=a\n",
    "        self.model=b\n",
    "        self.colour=c\n",
    "    \n",
    "c=car(\"Toyota\",\"Crown\",\"REd\")  \n",
    "c2=car(\"Toyota\",\"Corolla\",\"Bronze\")\n",
    "\n",
    "print(c.make,c.model,c.colour)\n",
    "print(c2.make,c2.model,c2.colour)\n"
   ]
  },
  {
   "cell_type": "code",
   "execution_count": 117,
   "id": "2cb9d142-1bd7-43cc-b483-c5942a3c613b",
   "metadata": {},
   "outputs": [
    {
     "name": "stdout",
     "output_type": "stream",
     "text": [
      "Toyota Crown REd\n",
      "Instant Colour change\n",
      "Toyota Crown Blue\n",
      "Toyota Corolla Bronze\n"
     ]
    }
   ],
   "source": [
    "class car:\n",
    "    colour=\"White\"\n",
    "    make=\"Toyota\"\n",
    "    model=\"Corolla\"\n",
    "    \n",
    "    def __init__(self,a,b,c): #constructor\n",
    "        self.make=a\n",
    "        self.model=b\n",
    "        self.colour=c\n",
    "    \n",
    "c=car(\"Toyota\",\"Crown\",\"REd\")\n",
    "print(c.make,c.model,c.colour)\n",
    "print(\"1st car Instant Colour change\")\n",
    "c.colour=\"Blue\"\n",
    "c2=car(\"Toyota\",\"Corolla\",\"Bronze\")\n",
    "print(c.make,c.model,c.colour)\n",
    "\n",
    "print(c2.make,c2.model,c2.colour)"
   ]
  },
  {
   "cell_type": "code",
   "execution_count": 121,
   "id": "b799928b-ab0f-4aa4-b0cc-bf82e23c61e0",
   "metadata": {},
   "outputs": [
    {
     "name": "stdout",
     "output_type": "stream",
     "text": [
      "Toyota Crown Blue\n",
      "Toyota Corolla Bronze\n",
      "Subaru Forester White\n"
     ]
    }
   ],
   "source": [
    "class car:\n",
    "    \n",
    "    def __init__(self,a,b,c=\"White\"): #constructor #default value\n",
    "        self.make=a\n",
    "        self.model=b\n",
    "        self.colour=c\n",
    "    \n",
    "c=car(\"Toyota\",\"Crown\",\"REd\")\n",
    "c.colour=\"Blue\" #car1 colour change instance\n",
    "\n",
    "c2=car(\"Toyota\",\"Corolla\",\"Bronze\")\n",
    "c3=car(\"Subaru\",\"Forester\") #default Colour\n",
    "\n",
    "print(c.make,c.model,c.colour)\n",
    "print(c2.make,c2.model,c2.colour)\n",
    "print(c3.make,c3.model,c3.colour)"
   ]
  },
  {
   "cell_type": "code",
   "execution_count": 129,
   "id": "7cc1c037-b185-4f50-83ea-eee6fd0b2890",
   "metadata": {},
   "outputs": [
    {
     "name": "stdout",
     "output_type": "stream",
     "text": [
      "Toyota Crown Blue 2020\n",
      "Toyota Corolla Bronze 2023\n",
      "Subaru Forester White 2024\n"
     ]
    }
   ],
   "source": [
    "class car:\n",
    "    def __init__(self,a,b,c=\"White\",d=2024): #constructor #default value\n",
    "        self.make=a\n",
    "        self.model=b\n",
    "        self.colour=c\n",
    "        self.year=d\n",
    "    \n",
    "c=car(\"Toyota\",\"Crown\",\"REd\")\n",
    "c.colour=\"Blue\" #car1 colour change instance\n",
    "c.year=2020 #insert value\n",
    "\n",
    "c2=car(\"Toyota\",\"Corolla\",\"Bronze\",2023)\n",
    "c3=car(\"Subaru\",\"Forester\") #default Colour\n",
    "\n",
    "print(c.make,c.model,c.colour,c.year)\n",
    "print(c2.make,c2.model,c2.colour,c2.year)\n",
    "print(c3.make,c3.model,c3.colour,c3.year)"
   ]
  },
  {
   "cell_type": "code",
   "execution_count": 144,
   "id": "a395f686-0e2a-4add-9dde-08083fad8285",
   "metadata": {},
   "outputs": [
    {
     "name": "stdout",
     "output_type": "stream",
     "text": [
      "Toyota Crown Blue 2020\n",
      "Toyota Corolla Bronze 2023\n",
      "Subaru-Forester-2024\n"
     ]
    }
   ],
   "source": [
    "class car:\n",
    "    def __init__(self,a,b,c=\"White\",d=2024): #constructor #default value\n",
    "        self.make=a\n",
    "        self.model=b\n",
    "        self.colour=c\n",
    "        self.year=d\n",
    "        \n",
    "    def __str__(self):\n",
    "         return f'{self.make}-{self.model}-{self.year}'\n",
    "\n",
    "c=car(\"Toyota\",\"Crown\",\"REd\")\n",
    "c.colour=\"Blue\" #car1 colour change instance\n",
    "c.year=2020 #insert value\n",
    "\n",
    "c2=car(\"Toyota\",\"Corolla\",\"Bronze\",2023)\n",
    "c3=car(\"Subaru\",\"Forester\") #default Colour\n",
    "\n",
    "print(c.make,c.model,c.colour,c.year)\n",
    "print(c2.make,c2.model,c2.colour,c2.year)\n",
    "print(c3)"
   ]
  },
  {
   "cell_type": "markdown",
   "id": "24673bd1-22ce-40a2-ba6a-6ab9fcb4e6ec",
   "metadata": {},
   "source": [
    "# Class Method"
   ]
  },
  {
   "cell_type": "code",
   "execution_count": 158,
   "id": "318f4d62-b768-4b8a-9296-b7db4faf148a",
   "metadata": {},
   "outputs": [
    {
     "name": "stdout",
     "output_type": "stream",
     "text": [
      "Toyota Crown Blue 2020\n",
      "Starting engine....\n",
      "Engine Started\n",
      "Subaru-Forester-2024\n"
     ]
    }
   ],
   "source": [
    "import time\n",
    "class car:\n",
    "    def __init__(self,a,b,c=\"White\",d=2024): #constructor #default value\n",
    "        self.make=a\n",
    "        self.model=b\n",
    "        self.colour=c\n",
    "        self.year=d\n",
    "    def __str__(self):\n",
    "         return f'{self.make}-{self.model}-{self.year}'\n",
    "        \n",
    "    def start_engine(self): #Class Method\n",
    "        print(\"Starting engine....\")\n",
    "        time.sleep(3) #after 3s Started \n",
    "        print(\"Engine Started\")\n",
    "\n",
    "\n",
    "c=car(\"Toyota\",\"Crown\",\"REd\")\n",
    "c.colour=\"Blue\" #car1 colour change instance\n",
    "c.year=2020 #insert value\n",
    "print(c.make,c.model,c.colour,c.year)\n",
    "\n",
    "c.start_engine()\n",
    "\n",
    "c3=car(\"Subaru\",\"Forester\") #default year\n",
    "print(c3)"
   ]
  },
  {
   "cell_type": "code",
   "execution_count": 168,
   "id": "bb5cf436-1493-4458-a34a-16e31c13e980",
   "metadata": {},
   "outputs": [
    {
     "name": "stdout",
     "output_type": "stream",
     "text": [
      "Toyota Crown Blue 2020\n",
      "Toyota prado White 2024\n",
      "Subaru-Forester-2024\n",
      "Starting engine....\n",
      "Engine Started Now\n",
      "Starting engine....\n",
      "Engine Started Now\n",
      "Starting engine....\n",
      "Engine Started Now\n"
     ]
    }
   ],
   "source": [
    "import time\n",
    "class car:\n",
    "    def __init__(self,a,b,c=\"White\",d=2024): #constructor #default value\n",
    "        self.make=a\n",
    "        self.model=b\n",
    "        self.colour=c\n",
    "        self.year=d\n",
    "    def __str__(self):\n",
    "         return f'{self.make}-{self.model}-{self.year}'\n",
    "        \n",
    "    def start_engine(self,t=3): #Class Method #default time 3\n",
    "        print(\"Starting engine....\")\n",
    "        time.sleep(t) \n",
    "        print(\"Engine Started Now\")\n",
    "\n",
    "\n",
    "c=car(\"Toyota\",\"Crown\",\"REd\")\n",
    "c.colour=\"Blue\" #car1 colour change instance\n",
    "c.year=2020 #insert value\n",
    "\n",
    "c2=car(\"Toyota\",\"prado\",\"White\")\n",
    "c3=car(\"Subaru\",\"Forester\") #default year\n",
    "\n",
    "print(c.make,c.model,c.colour,c.year)\n",
    "print(c2.make,c2.model,c2.colour,c2.year)\n",
    "print(c3)\n",
    "\n",
    "c.start_engine()\n",
    "c2.start_engine(0)\n",
    "c3.start_engine(5)"
   ]
  },
  {
   "cell_type": "markdown",
   "id": "b6fdd089-922f-4f88-bdb0-459bfa40517a",
   "metadata": {},
   "source": [
    "# Class Inheritence"
   ]
  },
  {
   "cell_type": "code",
   "execution_count": 171,
   "id": "d41d46ef-1ce4-48e0-a0de-89563e0bc21c",
   "metadata": {},
   "outputs": [
    {
     "name": "stdout",
     "output_type": "stream",
     "text": [
      "creating obj for class A\n"
     ]
    }
   ],
   "source": [
    "class A:\n",
    "    def __init__(self): #Constructor\n",
    "        print(\"creating obj for class A\")\n",
    "        \n",
    "a=A()\n",
    "b=A()"
   ]
  },
  {
   "cell_type": "code",
   "execution_count": 193,
   "id": "d7675ec7-a909-44e8-92a8-1e25f85ba51c",
   "metadata": {},
   "outputs": [
    {
     "name": "stdout",
     "output_type": "stream",
     "text": [
      "creating obj for class A\n",
      "creating obj for class A\n",
      "creating obj for class AA\n",
      "<__main__.A object at 0x0000018504CA72C0> A, I'M jumping\n"
     ]
    }
   ],
   "source": [
    "class A:\n",
    "    def __init__(self):\n",
    "        print(\"creating obj for class A\")\n",
    "    def jump(self):\n",
    "        print(self, \"A, I'M jumping\")   #Printing self directly     \n",
    "\n",
    "class AA(A):\n",
    "    def __init__(self):\n",
    "        print(\"creating obj for class AA\")\n",
    "a=A()\n",
    "b=A()\n",
    "c=AA()\n",
    "\n",
    "a.jump()\n"
   ]
  },
  {
   "cell_type": "code",
   "execution_count": 201,
   "id": "7b1bf2d3-6aa4-4db0-a409-7d2c67695e45",
   "metadata": {},
   "outputs": [
    {
     "name": "stdout",
     "output_type": "stream",
     "text": [
      "creating obj for class A\n",
      "creating obj for class AA\n",
      "A, I'M jumping\n",
      "A, I'M jumping\n"
     ]
    }
   ],
   "source": [
    "class A:\n",
    "    def __init__(self):\n",
    "        print(\"creating obj for class A\")\n",
    "    def jump(self):\n",
    "        print(\"A, I'M jumping\")  \n",
    "\n",
    "class AA(A):\n",
    "    def __init__(self):\n",
    "        print(\"creating obj for class AA\")\n",
    "a=A()\n",
    "c=AA()\n",
    "\n",
    "a.jump()\n",
    "c.jump() #no jump Method here, so check Parent class method and print\n"
   ]
  },
  {
   "cell_type": "markdown",
   "id": "3243a7cf-9885-44e6-9f91-de806ce0340b",
   "metadata": {},
   "source": [
    "# Method Overriding"
   ]
  },
  {
   "cell_type": "code",
   "execution_count": 204,
   "id": "d0a76260-5bf3-45e2-b73e-1754b3311ea1",
   "metadata": {},
   "outputs": [
    {
     "name": "stdout",
     "output_type": "stream",
     "text": [
      "creating obj for class A\n",
      "creating obj for class AA\n",
      "A, I'M jumping\n",
      "AA, I'M jumping\n"
     ]
    }
   ],
   "source": [
    "class A:\n",
    "    def __init__(self):\n",
    "        print(\"creating obj for class A\")\n",
    "    def jump(self):\n",
    "        print(\"A, I'M jumping\")  \n",
    "\n",
    "class AA(A):\n",
    "    def __init__(self):\n",
    "        print(\"creating obj for class AA\")\n",
    "    def jump(self):\n",
    "        print(\"AA, I'M jumping\") #same Method, Method Overriding\n",
    "a=A()\n",
    "c=AA()\n",
    "\n",
    "a.jump()\n",
    "c.jump()\n"
   ]
  },
  {
   "cell_type": "markdown",
   "id": "8940d09c-592e-40e2-b351-82d9e11c9315",
   "metadata": {},
   "source": [
    "# Basic Class"
   ]
  },
  {
   "cell_type": "code",
   "execution_count": 231,
   "id": "926662c3-fee4-4506-98c0-2c2aa0bd1f9e",
   "metadata": {},
   "outputs": [
    {
     "name": "stdout",
     "output_type": "stream",
     "text": [
      "30\n",
      "10\n",
      "20\n"
     ]
    }
   ],
   "source": [
    "class A:\n",
    "    x=10\n",
    "    y=20\n",
    "\n",
    "    def sum(self): #function\n",
    "        z=self.x+self.y\n",
    "        print(z)\n",
    "\n",
    "obj=A()\n",
    "obj.sum()\n",
    "print(obj.x)\n",
    "print(obj.y)\n"
   ]
  },
  {
   "cell_type": "markdown",
   "id": "f9fb6955-30bc-43b1-864c-eb9bc3798b8d",
   "metadata": {},
   "source": [
    "# Static Method"
   ]
  },
  {
   "cell_type": "code",
   "execution_count": 236,
   "id": "b0589c52-f93a-411a-b37c-97cf997fddf8",
   "metadata": {},
   "outputs": [
    {
     "name": "stdout",
     "output_type": "stream",
     "text": [
      "30\n"
     ]
    }
   ],
   "source": [
    "class A:\n",
    "    x=10\n",
    "    y=20\n",
    "\n",
    "    @staticmethod\n",
    "    def sum(): #self not need\n",
    "        z=A.x + A.y #Link with class without self\n",
    "        print(z)\n",
    "\n",
    "A.sum() #Object not need cz static"
   ]
  },
  {
   "cell_type": "markdown",
   "id": "6051cc1d-6857-4a11-a442-9a6bd12b6bf7",
   "metadata": {},
   "source": [
    "# Constructor"
   ]
  },
  {
   "cell_type": "code",
   "execution_count": 247,
   "id": "87ae3611-ed33-4ad0-a431-e9b8f7c7956c",
   "metadata": {},
   "outputs": [
    {
     "name": "stdout",
     "output_type": "stream",
     "text": [
      "-10\n"
     ]
    },
    {
     "data": {
      "text/plain": [
       "<__main__.A at 0x185035f3da0>"
      ]
     },
     "execution_count": 247,
     "metadata": {},
     "output_type": "execute_result"
    }
   ],
   "source": [
    "class A:\n",
    "    x=10\n",
    "    y=20\n",
    "\n",
    "    def __init__(self): #constructor #auto-call\n",
    "        z=self.x - self.y\n",
    "        print(z)\n",
    "\n",
    "A()"
   ]
  },
  {
   "cell_type": "markdown",
   "id": "fd6eea5e-2279-4666-b0bd-d848222d6ee2",
   "metadata": {},
   "source": [
    "# Class Inheritence"
   ]
  },
  {
   "cell_type": "code",
   "execution_count": 258,
   "id": "1c947c07-1794-4d51-94a3-21eb38c92b57",
   "metadata": {},
   "outputs": [
    {
     "name": "stdout",
     "output_type": "stream",
     "text": [
      "-10\n"
     ]
    },
    {
     "data": {
      "text/plain": [
       "<__main__.Son at 0x18504cd6090>"
      ]
     },
     "execution_count": 258,
     "metadata": {},
     "output_type": "execute_result"
    }
   ],
   "source": [
    "class Father:\n",
    "    x=10\n",
    "    y=20\n",
    "\n",
    "    def __init__(self): #Default constructor #auto-call\n",
    "        z=self.x - self.y\n",
    "        print(z)\n",
    "\n",
    "    def sum(self): #Function\n",
    "        z=self.x + self.y\n",
    "        print(z)\n",
    "\n",
    "    @staticmethod\n",
    "    def multiply(): #Static Method\n",
    "        z=Father.x * Father.y\n",
    "        print(z)\n",
    "          \n",
    "class Son(Father):\n",
    "    pass\n",
    "\n",
    "Son()"
   ]
  },
  {
   "cell_type": "code",
   "execution_count": 274,
   "id": "08953e77-a402-49d4-9a2e-5f94ec295dbb",
   "metadata": {},
   "outputs": [
    {
     "name": "stdout",
     "output_type": "stream",
     "text": [
      "-10\n",
      "200\n"
     ]
    }
   ],
   "source": [
    "class Father:\n",
    "    x=10\n",
    "    y=20\n",
    "\n",
    "    def __init__(self): #Default-constructor #auto-call\n",
    "        z=self.x - self.y\n",
    "        print(z)\n",
    "\n",
    "    def sum(self): #Function\n",
    "        z=self.x + self.y\n",
    "        print(z)\n",
    "\n",
    "    @staticmethod\n",
    "    def multiply(): #Static Method\n",
    "        z=Father.x * Father.y\n",
    "        print(z)\n",
    "          \n",
    "class Son(Father):\n",
    "    pass\n",
    "\n",
    "Son().multiply() #son can access father method"
   ]
  },
  {
   "cell_type": "code",
   "execution_count": 278,
   "id": "47e7d339-7440-4003-b02b-980095b701ec",
   "metadata": {},
   "outputs": [
    {
     "name": "stdout",
     "output_type": "stream",
     "text": [
      "-10\n",
      "10\n",
      "30\n"
     ]
    }
   ],
   "source": [
    "class Father:\n",
    "    x=10\n",
    "    y=20\n",
    "\n",
    "    def __init__(self): #Default-constructor #auto-call\n",
    "        z=self.x - self.y\n",
    "        print(z)\n",
    "\n",
    "    def sum(self): #Function\n",
    "        z=self.x + self.y\n",
    "        print(z)\n",
    "\n",
    "    @staticmethod\n",
    "    def multiply(): #Static Method\n",
    "        z=Father.x * Father.y\n",
    "        print(z)\n",
    "          \n",
    "class Son(Father):\n",
    "    pass\n",
    "\n",
    "obj=Son()\n",
    "print(obj.x) #son can access father veriable\n",
    "obj.sum() #son can access father Function"
   ]
  },
  {
   "cell_type": "code",
   "execution_count": 288,
   "id": "e4b2ebdf-426b-436d-a45e-247de6b12fa5",
   "metadata": {},
   "outputs": [
    {
     "name": "stdout",
     "output_type": "stream",
     "text": [
      "-10\n",
      "30\n",
      "10\n",
      "20\n"
     ]
    }
   ],
   "source": [
    "class Father:\n",
    "    x=10\n",
    "    y=20\n",
    "\n",
    "    def __init__(self): #Default-constructor #auto-call\n",
    "        z=self.x - self.y\n",
    "        print(z)\n",
    "\n",
    "    def sum(self): #Function\n",
    "        z=self.x + self.y\n",
    "        print(z)\n",
    "\n",
    "    @staticmethod\n",
    "    def multiply(): #Static Method\n",
    "        z=Father.x * Father.y\n",
    "        print(z)\n",
    "          \n",
    "class Son(Father):\n",
    "    pass\n",
    "\n",
    "obj=Father()\n",
    "obj.sum()\n",
    "print(obj.x)\n",
    "print(obj.y)"
   ]
  },
  {
   "cell_type": "markdown",
   "id": "37f60608-a854-4825-91e0-3a3517ee7b15",
   "metadata": {},
   "source": [
    "# Overriding"
   ]
  },
  {
   "cell_type": "code",
   "execution_count": 295,
   "id": "91edff1e-8399-4573-84cd-04a2d7cc16ff",
   "metadata": {},
   "outputs": [
    {
     "name": "stdout",
     "output_type": "stream",
     "text": [
      "-5\n",
      "15\n"
     ]
    }
   ],
   "source": [
    "class Father:\n",
    "    x=10\n",
    "    y=20\n",
    "\n",
    "    def __init__(self): #Default-constructor #auto-call\n",
    "        z=self.x - self.y\n",
    "        print(z)\n",
    "\n",
    "    def sum(self): #Function\n",
    "        z=self.x + self.y\n",
    "        print(z)\n",
    "\n",
    "    @staticmethod\n",
    "    def multiply(): #Static Method\n",
    "        z=Father.x * Father.y\n",
    "        print(z)\n",
    "          \n",
    "class Son(Father):\n",
    "    x=5\n",
    "    y=10\n",
    "\n",
    "    def sum(self): #Function #overriding\n",
    "            z=self.x + self.y\n",
    "            print(z)\n",
    "#if we use overriding properties for son, it work new value and called default-constructor first, then own method.\n",
    "objson=Son()\n",
    "objson.sum()\n",
    "\n",
    "    "
   ]
  },
  {
   "cell_type": "markdown",
   "id": "4787702e-48ce-44d5-9540-593ce3ffd1b6",
   "metadata": {},
   "source": [
    "# Abstact"
   ]
  },
  {
   "cell_type": "code",
   "execution_count": 310,
   "id": "5e02666d-4d3c-4123-83e8-3c8ca566b81f",
   "metadata": {},
   "outputs": [
    {
     "name": "stdout",
     "output_type": "stream",
     "text": [
      "30\n"
     ]
    }
   ],
   "source": [
    "from abc import ABC,abstractmethod #abc-module,1.ABC-Base-Class,2.abs-method\n",
    "\n",
    "class Father(ABC): #Abstract (no-access) erased\n",
    "    x=10\n",
    "    y=20\n",
    "\n",
    "    @abstractmethod\n",
    "    def sum(self): #abstract method #must need erase\n",
    "        pass\n",
    "        #z=self.x + self.y\n",
    "        #print(z)\n",
    "\n",
    "          \n",
    "class Son(Father):\n",
    "    def sum(self): #obj for son, must need Overriding\n",
    "        z=self.x + self.y\n",
    "        print(z)\n",
    "\n",
    "#objfather= Father() #error bcz Abs\n",
    "#objfather.sum()\n",
    "\n",
    "objSon=Son()\n",
    "objSon.sum()\n",
    "\n",
    "    "
   ]
  },
  {
   "cell_type": "markdown",
   "id": "ce7160a1-adc8-49a1-ae41-950d614840f5",
   "metadata": {},
   "source": [
    "# Multipl Inherritance"
   ]
  },
  {
   "cell_type": "code",
   "execution_count": 315,
   "id": "2396c6ce-0f6d-48d1-9520-da6de6171794",
   "metadata": {},
   "outputs": [
    {
     "name": "stdout",
     "output_type": "stream",
     "text": [
      "3\n",
      "8\n"
     ]
    }
   ],
   "source": [
    "class Father: \n",
    "\n",
    "    def sum(self,num1,num2): \n",
    "        print(num1 + num2)\n",
    "\n",
    "class Mother: \n",
    "\n",
    "    def multiply(self,num1,num2): \n",
    "        print(num1 * num2)\n",
    "          \n",
    "class Son(Father,Mother):\n",
    "    pass\n",
    "objSon=Son()\n",
    "objSon.sum(1,2)\n",
    "objSon.multiply(2,4)"
   ]
  },
  {
   "cell_type": "markdown",
   "id": "7d549494-9be3-43d0-878f-6b6290ba6482",
   "metadata": {},
   "source": [
    "# Multilevel Inherritance"
   ]
  },
  {
   "cell_type": "code",
   "execution_count": 321,
   "id": "9150c2a1-3a90-47a6-8eaf-1b3bfcb0ad6a",
   "metadata": {},
   "outputs": [
    {
     "name": "stdout",
     "output_type": "stream",
     "text": [
      "30\n"
     ]
    }
   ],
   "source": [
    "class GrandFather: \n",
    "    x=10\n",
    "    y=20\n",
    "\n",
    "    def sum(self): \n",
    "        print(self.x + self.y)\n",
    "\n",
    "class Father(GrandFather): \n",
    "    pass\n",
    "          \n",
    "class Son(Father):\n",
    "    pass\n",
    "    \n",
    "class GrandSon(Son):\n",
    "    pass\n",
    "\n",
    "objGrandSon=GrandSon()\n",
    "objGrandSon.sum()"
   ]
  },
  {
   "cell_type": "markdown",
   "id": "4c4ac85e-eea9-4079-87c0-22e3a2392c8c",
   "metadata": {},
   "source": [
    "# Access Modifier"
   ]
  },
  {
   "cell_type": "markdown",
   "id": "61525be8-61dd-45e9-8623-06cefe777513",
   "metadata": {},
   "source": [
    "## Public"
   ]
  },
  {
   "cell_type": "code",
   "execution_count": 344,
   "id": "2581692a-8d8f-4b38-b67c-e46b52e41767",
   "metadata": {},
   "outputs": [
    {
     "name": "stdout",
     "output_type": "stream",
     "text": [
      "50\n"
     ]
    }
   ],
   "source": [
    "#by default PUBLIC (Can access inside and outside of class)\n",
    "class Father: \n",
    "    x=10\n",
    "    y=20\n",
    "\n",
    "    def sum(self): \n",
    "        print(self.x + self.y)\n",
    "\n",
    "objFather=Father\n",
    "print(objFather.x +40)\n"
   ]
  },
  {
   "cell_type": "markdown",
   "id": "63e3fd48-c436-47a7-a36e-f4916083b469",
   "metadata": {},
   "source": [
    "## Private"
   ]
  },
  {
   "cell_type": "code",
   "execution_count": 384,
   "id": "eb64e961-e5cd-48ce-8245-5d1c59ebb0e0",
   "metadata": {},
   "outputs": [
    {
     "ename": "AttributeError",
     "evalue": "'Father' object has no attribute '__x'",
     "output_type": "error",
     "traceback": [
      "\u001b[1;31m---------------------------------------------------------------------------\u001b[0m",
      "\u001b[1;31mAttributeError\u001b[0m                            Traceback (most recent call last)",
      "Cell \u001b[1;32mIn[384], line 13\u001b[0m\n\u001b[0;32m     11\u001b[0m objFather \u001b[38;5;241m=\u001b[39m Father()\n\u001b[0;32m     12\u001b[0m \u001b[38;5;66;03m#objFather.sum()\u001b[39;00m\n\u001b[1;32m---> 13\u001b[0m \u001b[38;5;28mprint\u001b[39m(objFather\u001b[38;5;241m.\u001b[39m__x \u001b[38;5;241m+\u001b[39m\u001b[38;5;241m40\u001b[39m)\n",
      "\u001b[1;31mAttributeError\u001b[0m: 'Father' object has no attribute '__x'"
     ]
    }
   ],
   "source": [
    "#by default PUBLIC (Can access inside and outside of class)\n",
    "#privae(__) they can access inside of class only\n",
    "\n",
    "class Father: \n",
    "    __x=10\n",
    "    __y=20\n",
    "\n",
    "    def sum(self): \n",
    "        print(self.__x + self.__y)\n",
    "\n",
    "objFather = Father()\n",
    "#objFather.sum()\n",
    "print(objFather.__x +40) #no access\n"
   ]
  },
  {
   "cell_type": "code",
   "execution_count": 386,
   "id": "7941844e-9bae-4c13-be6b-f58b5b8d6e28",
   "metadata": {},
   "outputs": [
    {
     "name": "stdout",
     "output_type": "stream",
     "text": [
      "30\n"
     ]
    }
   ],
   "source": [
    "#by default PUBLIC (Can access inside and outside of class)\n",
    "#privae(__) they can access inside of class only\n",
    "\n",
    "class Father: \n",
    "    __x=10\n",
    "    __y=20\n",
    "\n",
    "    def sum(self): \n",
    "        print(self.__x + self.__y)\n",
    "\n",
    "objFather = Father()\n",
    "objFather.sum()\n",
    "#print(objFather.__x +40) #no access\n"
   ]
  },
  {
   "cell_type": "markdown",
   "id": "7848664e-3882-4d77-b766-42c73371b15e",
   "metadata": {},
   "source": [
    "## Protected"
   ]
  },
  {
   "cell_type": "code",
   "execution_count": 391,
   "id": "2d79d7d3-9fdd-4d75-b2f4-87e087470797",
   "metadata": {},
   "outputs": [
    {
     "name": "stdout",
     "output_type": "stream",
     "text": [
      "100\n"
     ]
    }
   ],
   "source": [
    "#by default PUBLIC (Can access inside and outside of class)\n",
    "#privae(__) they can access inside of class only\n",
    "# protected (_) Acess inside, Outside of class. Like public\n",
    "\n",
    "class Father: \n",
    "    __x=10\n",
    "    __y=20\n",
    "    _z=100 #protected\n",
    "\n",
    "    def sum(self): \n",
    "        print(self.__x + self.__y)\n",
    "\n",
    "objFather=Father()\n",
    "print(objFather._z) #can access inside and outsize of class like public"
   ]
  },
  {
   "cell_type": "markdown",
   "id": "34449d2b-e1fa-4ae6-9526-8312c5b0d5ca",
   "metadata": {},
   "source": [
    "# Method_Overriding"
   ]
  },
  {
   "cell_type": "code",
   "execution_count": 394,
   "id": "7578e327-3a0d-4f7c-b829-e6401de253c0",
   "metadata": {},
   "outputs": [
    {
     "name": "stdout",
     "output_type": "stream",
     "text": [
      "12\n"
     ]
    }
   ],
   "source": [
    "class Father: \n",
    "\n",
    "    def sum(self,a,b,c):\n",
    "        print(a+b+c)\n",
    "\n",
    "objFather=Father()\n",
    "objFather.sum(2,4,6)\n"
   ]
  },
  {
   "cell_type": "code",
   "execution_count": 398,
   "id": "41d54c0e-21fb-4176-8aa0-0e6ebc5d762b",
   "metadata": {},
   "outputs": [
    {
     "name": "stdout",
     "output_type": "stream",
     "text": [
      "12\n",
      "6\n"
     ]
    }
   ],
   "source": [
    "class Father: \n",
    "\n",
    "    def sum(self,a,b,c=0): #default value\n",
    "        print(a+b+c)\n",
    "\n",
    "objFather=Father()\n",
    "objFather.sum(2,4,6)\n",
    "objFather.sum(2,4)\n"
   ]
  },
  {
   "cell_type": "code",
   "execution_count": 412,
   "id": "85f4ca42-c681-4a40-a4f1-abae67b9fe5d",
   "metadata": {},
   "outputs": [
    {
     "name": "stdout",
     "output_type": "stream",
     "text": [
      "12\n",
      "6\n",
      "2\n",
      "2 4\n",
      "2 4 6\n",
      "2 4 6 8\n"
     ]
    }
   ],
   "source": [
    "class Father: \n",
    "\n",
    "    def sum(self,a,b,c=0): #default value\n",
    "        print(a+b+c)\n",
    "    def number(self, *args): #variable length argument\n",
    "        print(*args)\n",
    "    \n",
    "objFather=Father()\n",
    "objFather.sum(2,4,6)\n",
    "objFather.sum(2,4)\n",
    "\n",
    "objFather.number(2)\n",
    "objFather.number(2,4)\n",
    "objFather.number(2,4,6)\n",
    "objFather.number(2,4,6,8)\n"
   ]
  },
  {
   "cell_type": "code",
   "execution_count": null,
   "id": "c3ae1ade-1dbb-40de-b9b6-f7879cdf2c6e",
   "metadata": {},
   "outputs": [],
   "source": []
  }
 ],
 "metadata": {
  "kernelspec": {
   "display_name": "Python 3 (ipykernel)",
   "language": "python",
   "name": "python3"
  },
  "language_info": {
   "codemirror_mode": {
    "name": "ipython",
    "version": 3
   },
   "file_extension": ".py",
   "mimetype": "text/x-python",
   "name": "python",
   "nbconvert_exporter": "python",
   "pygments_lexer": "ipython3",
   "version": "3.12.4"
  }
 },
 "nbformat": 4,
 "nbformat_minor": 5
}
