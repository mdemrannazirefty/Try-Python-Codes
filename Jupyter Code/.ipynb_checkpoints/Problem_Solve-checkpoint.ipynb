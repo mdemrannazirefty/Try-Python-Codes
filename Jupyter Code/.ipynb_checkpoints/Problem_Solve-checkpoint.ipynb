{
 "cells": [
  {
   "cell_type": "markdown",
   "id": "bf0c316b-85a9-4017-80ad-a979bfee6d57",
   "metadata": {},
   "source": [
    "*Q1:\n",
    "Problem Statement\r\n",
    "Write a program to find the quotient of two numbers (integer division).\r\n",
    "\r\n",
    "Input\r\n",
    "The input consists of two integers.\r\n",
    "\r\n",
    "Output\r\n",
    "Output will be the quotient which will be an integer.\r\n",
    "\r\n",
    "Constraints\r\n",
    "-2 31 ≤ |S| ≤ 231 - 1\r\n",
    "Example:\r\n",
    "Enter two num4 2 \n",
    "output: 2bers\r\n",
    "\r\n",
    "Input:"
   ]
  },
  {
   "cell_type": "code",
   "execution_count": 1,
   "id": "d78409da-e59b-4340-9695-7ffef288e894",
   "metadata": {},
   "outputs": [
    {
     "name": "stdin",
     "output_type": "stream",
     "text": [
      " 4 2\n"
     ]
    },
    {
     "name": "stdout",
     "output_type": "stream",
     "text": [
      "2\n"
     ]
    }
   ],
   "source": [
    "data=input().split(\" \")\n",
    "data1=int(data[0])\n",
    "data2=int(data[1])\n",
    "reminder= data2 % data1\n",
    "print(reminder)"
   ]
  },
  {
   "cell_type": "markdown",
   "id": "6e58011d-da32-4f00-a084-1f4123083c11",
   "metadata": {},
   "source": [
    "*Q2: Problem Statement\r\n",
    "Write a program to find the quotient of two numbers (integer division).\r\n",
    "\r\n",
    "Input\r\n",
    "The input consists of two integers.\r\n",
    "\r\n",
    "Output\r\n",
    "Output will be the quotient which will be an integer.\r\n",
    "\r\n",
    "Constraints\r\n",
    "-2 31 ≤ |S| ≤ 231 - 1\r\n",
    "Example:\r\n",
    "Enter two numbers\r\n",
    "\r\n",
    "Input:bers\r\n",
    "\r\n",
    "Input:"
   ]
  },
  {
   "cell_type": "code",
   "execution_count": 4,
   "id": "d4c1813b-2527-4e0c-a57b-cb8be764f111",
   "metadata": {},
   "outputs": [
    {
     "name": "stdin",
     "output_type": "stream",
     "text": [
      " 45 35\n"
     ]
    },
    {
     "name": "stdout",
     "output_type": "stream",
     "text": [
      "1\n"
     ]
    }
   ],
   "source": [
    "data=input().split(\" \")\n",
    "data1=int(data[0])\n",
    "data2=int(data[1])\n",
    "ans= data1 // data2\n",
    "\n",
    "print(ans)"
   ]
  },
  {
   "cell_type": "markdown",
   "id": "bc4118cb-8be7-4441-a360-e5d199924ce4",
   "metadata": {},
   "source": [
    "Find Discount\n",
    "\n",
    "বাং\n",
    "Problem Statement\n",
    "Write a program to create a function that takes two arguments: the original price and the discount percentage as integers and returns the final price after the discount.\n",
    "\n",
    "Input\n",
    "The input consists of two integers: the original price and the discount.\n",
    "\n",
    "Output\n",
    "The output will print the final price after discount which will be a float number.\n",
    "\n",
    "Constraints\n",
    "N stands for any integer number.\n",
    "\n",
    "0 ≤ |N| ≤ 100000\n",
    "Example:\n",
    "Enter numbers\n",
    "\n",
    "Input:"
   ]
  },
  {
   "cell_type": "code",
   "execution_count": 13,
   "id": "dc326619-3c1f-49d0-b62f-254c67591053",
   "metadata": {},
   "outputs": [
    {
     "name": "stdin",
     "output_type": "stream",
     "text": [
      " 50 20\n"
     ]
    },
    {
     "name": "stdout",
     "output_type": "stream",
     "text": [
      "Price: 40.00\n"
     ]
    }
   ],
   "source": [
    "def calculate(originalp, discountp):\n",
    "    discount_amount = (originalp * discountp) / 100\n",
    "    final_price = originalp - discount_amount\n",
    "    return round(final_price, 2)\n",
    "\n",
    "data = input(\"\")\n",
    "originalp, discountp = map(int, data.split())\n",
    "\n",
    "\n",
    "if 0 <= originalp <= 100000 and 0 <= discountp<= 100:\n",
    "    discountedp = calculate(originalp, discountp)\n",
    "    print(\"Price:\", f\"{discountedp:.2f}\")\n",
    "else:\n",
    "    print(\"invalid input\")\n"
   ]
  },
  {
   "cell_type": "markdown",
   "id": "52dd8cf1-1e1d-4835-9d7d-afdba8ad6b55",
   "metadata": {},
   "source": [
    "Problem Statement\n",
    "Write a program that asks the user for their name and then prints a personalized greeting.\n",
    "\n",
    "Input\n",
    "The input consists of a string \n",
    "S\n",
    "S\n",
    "\n",
    "Output\n",
    "Output a single line containing the personalized greeting.\n",
    "\n",
    "Constraints\n",
    "1 ≤ S ≤ 1000\n",
    "Example:\n",
    "What is your name?\n",
    "\n",
    "Input: Alice\n",
    "\n",
    "output : Hello, Alice! Nice to meet you."
   ]
  },
  {
   "cell_type": "code",
   "execution_count": 11,
   "id": "b9e44f6b-448a-444e-9320-30c776957861",
   "metadata": {},
   "outputs": [
    {
     "name": "stdin",
     "output_type": "stream",
     "text": [
      " Alice\n"
     ]
    },
    {
     "name": "stdout",
     "output_type": "stream",
     "text": [
      "Hello, Alice! Nice to meet you.\n"
     ]
    }
   ],
   "source": [
    "data=input()\n",
    "print(\"Hello, \"+data+\"! Nice to meet you.\")"
   ]
  },
  {
   "cell_type": "code",
   "execution_count": null,
   "id": "b528ab66-ff9c-4111-af9d-8476ee1d5a7b",
   "metadata": {},
   "outputs": [],
   "source": []
  }
 ],
 "metadata": {
  "kernelspec": {
   "display_name": "Python 3 (ipykernel)",
   "language": "python",
   "name": "python3"
  },
  "language_info": {
   "codemirror_mode": {
    "name": "ipython",
    "version": 3
   },
   "file_extension": ".py",
   "mimetype": "text/x-python",
   "name": "python",
   "nbconvert_exporter": "python",
   "pygments_lexer": "ipython3",
   "version": "3.12.4"
  }
 },
 "nbformat": 4,
 "nbformat_minor": 5
}
