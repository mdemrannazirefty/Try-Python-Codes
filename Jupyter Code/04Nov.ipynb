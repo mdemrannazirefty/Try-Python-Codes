{
 "cells": [
  {
   "cell_type": "code",
   "execution_count": 1,
   "id": "789f6226-63ce-40ca-8560-4169bebed850",
   "metadata": {},
   "outputs": [
    {
     "name": "stdout",
     "output_type": "stream",
     "text": [
      "Hello\n"
     ]
    }
   ],
   "source": [
    "print(\"Hello\")"
   ]
  },
  {
   "cell_type": "markdown",
   "id": "29bcf032-04f0-455f-a3cf-8680c38f9378",
   "metadata": {},
   "source": [
    "## Adj MATRIX"
   ]
  },
  {
   "cell_type": "code",
   "execution_count": 20,
   "id": "eafc7a18-2b6d-458a-a363-691c1115ea7b",
   "metadata": {},
   "outputs": [
    {
     "name": "stdout",
     "output_type": "stream",
     "text": [
      "[0, 0, 0, 0, 0, 0, 0, 0, 0, 0]\n",
      "[0, 0, 0, 0, 0, 0, 0, 0, 0, 0]\n",
      "[0, 0, 0, 0, 0, 0, 0, 0, 0, 0]\n",
      "[0, 0, 0, 0, 0, 0, 0, 0, 0, 0]\n",
      "[0, 0, 0, 0, 0, 0, 0, 0, 0, 0]\n",
      "[0, 0, 0, 0, 0, 0, 0, 0, 0, 0]\n",
      "[0, 0, 0, 0, 0, 0, 0, 0, 0, 0]\n",
      "[0, 0, 0, 0, 0, 0, 0, 0, 0, 0]\n",
      "[0, 0, 0, 0, 0, 0, 0, 0, 0, 0]\n",
      "[0, 0, 0, 0, 0, 0, 0, 0, 0, 0]\n"
     ]
    }
   ],
   "source": [
    "def createMtrix(n):\n",
    "    m=[]\n",
    "    for i in range(n):\n",
    "        c=[]\n",
    "        for j in range(n):\n",
    "            c.append(0)\n",
    "        m.append(c)\n",
    "    return m      \n",
    "\n",
    "def printMatrix(m):\n",
    "    for i in range(len(m)):\n",
    "        print(m[i])\n",
    "\n",
    "adj_matrix=createMtrix(10)\n",
    "printmatrix(adj_matrix)"
   ]
  },
  {
   "cell_type": "code",
   "execution_count": 17,
   "id": "3f8bb161-0909-4e1d-ba33-9cc63c082865",
   "metadata": {},
   "outputs": [
    {
     "name": "stdout",
     "output_type": "stream",
     "text": [
      "6 9\n",
      "0 3\n",
      "0 2\n",
      "1 2\n",
      "1 3\n",
      "2 3\n",
      "3 4\n",
      "4 0\n",
      "4 1\n",
      "4 5\n"
     ]
    }
   ],
   "source": [
    "f=open(\"Graph04nov.txt\",\"r\")\n",
    "print(f.read())"
   ]
  },
  {
   "cell_type": "markdown",
   "id": "104481dd-2810-4680-869f-55639e1cc24f",
   "metadata": {},
   "source": [
    "## Directed MATRIX"
   ]
  },
  {
   "cell_type": "code",
   "execution_count": 26,
   "id": "f86b13b9-a4b0-4625-947c-d64186e35913",
   "metadata": {},
   "outputs": [
    {
     "name": "stdout",
     "output_type": "stream",
     "text": [
      "\n",
      "[0, 0, 0, 0, 0, 0]\n",
      "[0, 0, 0, 0, 0, 0]\n",
      "[0, 0, 0, 0, 0, 0]\n",
      "[0, 0, 0, 0, 0, 0]\n",
      "[0, 0, 0, 0, 0, 0]\n",
      "[0, 0, 0, 0, 0, 0]\n",
      "\n",
      "[0, 1, 1, 0, 0, 0]\n",
      "[0, 0, 1, 1, 0, 0]\n",
      "[0, 0, 0, 1, 0, 0]\n",
      "[0, 0, 0, 0, 1, 0]\n",
      "[1, 1, 0, 0, 0, 1]\n",
      "[0, 0, 0, 0, 0, 0]\n"
     ]
    }
   ],
   "source": [
    "\n",
    "def createMatrix(n):\n",
    "    m=[]\n",
    "    for i in range(n):\n",
    "        c=[]\n",
    "        for j in range(n):\n",
    "            c.append(0)\n",
    "        m.append(c)\n",
    "    return m\n",
    "    \n",
    "def printMatrix(m):\n",
    "    for i in range(len(m)):\n",
    "        print(m[i])\n",
    "\n",
    "print()\n",
    "\n",
    "f=open(\"Graph04nov.txt\",\"r\")\n",
    "line=f.readline()\n",
    "l=line.split()\n",
    "n=int(l[0])\n",
    "m=int(l[1])\n",
    "\n",
    "\n",
    "adj_matrix=createMatrix(n)\n",
    "printMatrix(adj_matrix)\n",
    "\n",
    "print()\n",
    "\n",
    "for i in range(m):\n",
    "    line1=f.readline()\n",
    "    u=int(line1.split()[0])\n",
    "    v=int(line1.split()[1])\n",
    "    adj_matrix[u][v]=1\n",
    "printMatrix(adj_matrix)"
   ]
  },
  {
   "cell_type": "markdown",
   "id": "e18cb490-d0b5-4b59-9c27-36cf7ad66196",
   "metadata": {},
   "source": [
    "## Undirected graph"
   ]
  },
  {
   "cell_type": "code",
   "execution_count": 21,
   "id": "29dac2b7-3106-4e24-9709-ee04cfcb28ac",
   "metadata": {},
   "outputs": [
    {
     "name": "stdout",
     "output_type": "stream",
     "text": [
      "\n",
      "[0, 0, 0, 0, 0, 0]\n",
      "[0, 0, 0, 0, 0, 0]\n",
      "[0, 0, 0, 0, 0, 0]\n",
      "[0, 0, 0, 0, 0, 0]\n",
      "[0, 0, 0, 0, 0, 0]\n",
      "[0, 0, 0, 0, 0, 0]\n",
      "\n",
      "[0, 1, 1, 0, 1, 0]\n",
      "[1, 0, 1, 1, 1, 0]\n",
      "[1, 1, 0, 0, 0, 0]\n",
      "[0, 0, 0, 0, 0, 0]\n",
      "[0, 0, 0, 0, 0, 0]\n",
      "[0, 0, 0, 0, 0, 0]\n"
     ]
    }
   ],
   "source": [
    "def createMatrix(n):\n",
    "    m=[]\n",
    "    for i in range(n):\n",
    "        c=[]\n",
    "        for j in range(n):\n",
    "            c.append(0)\n",
    "        m.append(c)\n",
    "    return m\n",
    "    \n",
    "def printMatrix(m):\n",
    "    for i in range(len(m)):\n",
    "        print(m[i])\n",
    "\n",
    "print()\n",
    "\n",
    "f=open(\"udgraph.txt\",\"r\")\n",
    "line=f.readline()\n",
    "l=line.split()\n",
    "n=int(l[0])\n",
    "m=int(l[1])\n",
    "\n",
    "\n",
    "adj_matrix=createMatrix(n)\n",
    "printMatrix(adj_matrix)\n",
    "\n",
    "print()\n",
    "\n",
    "for i in range(m):\n",
    "    line1=f.readline()\n",
    "    u=int(line1.split()[0])\n",
    "    v=int(line1.split()[1])\n",
    "    adj_matrix[u][v]=1\n",
    "    adj_matrix[u][v]=1\n",
    "printMatrix(adj_matrix)"
   ]
  },
  {
   "cell_type": "markdown",
   "id": "38bbc9b7-c6e2-4f06-b045-768760ff378d",
   "metadata": {},
   "source": [
    "## Weighted Graph"
   ]
  },
  {
   "cell_type": "code",
   "execution_count": 16,
   "id": "f818c63e-db48-493a-acfc-cfb2fbacf469",
   "metadata": {},
   "outputs": [
    {
     "name": "stdout",
     "output_type": "stream",
     "text": [
      "\n",
      "[0, 0, 0, 0, 0, 0]\n",
      "[0, 0, 0, 0, 0, 0]\n",
      "[0, 0, 0, 0, 0, 0]\n",
      "[0, 0, 0, 0, 0, 0]\n",
      "[0, 0, 0, 0, 0, 0]\n",
      "[0, 0, 0, 0, 0, 0]\n",
      "\n",
      "[0, 4, 3, 0, 0, 0]\n",
      "[0, 0, 5, 2, 0, 0]\n",
      "[0, 0, 0, 7, 0, 0]\n",
      "[0, 0, 0, 0, 2, 0]\n",
      "[4, 4, 0, 0, 0, 6]\n",
      "[0, 0, 0, 0, 0, 0]\n"
     ]
    }
   ],
   "source": [
    "def createMatrix(n):\n",
    "    m=[]\n",
    "    for i in range(n):\n",
    "        c=[]\n",
    "        for j in range(n):\n",
    "            c.append(0)\n",
    "        m.append(c)\n",
    "    return m\n",
    "    \n",
    "def printMatrix(m):\n",
    "    for i in range(len(m)):\n",
    "        print(m[i])\n",
    "\n",
    "print()\n",
    "\n",
    "f=open(\"weightedGraph.txt\",\"r\")\n",
    "line=f.readline()\n",
    "l=line.split()\n",
    "n=int(l[0])\n",
    "m=int(l[1])\n",
    "\n",
    "\n",
    "adj_matrix=createMatrix(n)\n",
    "printMatrix(adj_matrix)\n",
    "\n",
    "print()\n",
    "\n",
    "for i in range(m):\n",
    "    line1=f.readline()\n",
    "    u=int(line1.split()[0])\n",
    "    v=int(line1.split()[1])\n",
    "    w=int(line1.split()[2])\n",
    "    adj_matrix[u][v]=w\n",
    "    \n",
    "printMatrix(adj_matrix)"
   ]
  },
  {
   "cell_type": "markdown",
   "id": "2b5b16e1-d066-4729-ad49-0e2baec95904",
   "metadata": {},
   "source": [
    "## Directed List"
   ]
  },
  {
   "cell_type": "code",
   "execution_count": 3,
   "id": "6bcefe4c-182e-43d0-bad8-7ca3a43f9186",
   "metadata": {},
   "outputs": [
    {
     "name": "stdout",
     "output_type": "stream",
     "text": [
      "\n",
      "0: []\n",
      "1: []\n",
      "2: []\n",
      "3: []\n",
      "4: []\n",
      "5: []\n",
      "\n",
      "0: [1, 2]\n",
      "1: [2, 3]\n",
      "2: [3]\n",
      "3: [4]\n",
      "4: [0, 1, 5]\n",
      "5: []\n"
     ]
    }
   ],
   "source": [
    "def createList(n):\n",
    "    g={}\n",
    "    for i in range(n):\n",
    "        g[i]=[]\n",
    "    return g\n",
    "def printList(g):\n",
    "    for i in range(len(g)):\n",
    "        print(i,end=\": \")\n",
    "        print(g[i])\n",
    "\n",
    " \n",
    "print()\n",
    " \n",
    "f=open(\"Graph04nov.txt\",\"r\")\n",
    "line=f.readline()\n",
    "l=line.split()\n",
    "n=int(l[0])\n",
    "m=int(l[1])\n",
    " \n",
    " \n",
    "adj_list=createList(n)\n",
    "printList(adj_list)\n",
    " \n",
    "print()\n",
    " \n",
    "for i in range(m):\n",
    "    line1=f.readline()\n",
    "    u=int(line1.split()[0])\n",
    "    v=int(line1.split()[1])\n",
    "    adj_list[u].append(v)\n",
    "printList(adj_list)"
   ]
  },
  {
   "cell_type": "markdown",
   "id": "375f1658-88af-412e-9c59-8f9a50f66005",
   "metadata": {},
   "source": [
    "## Weighted List"
   ]
  },
  {
   "cell_type": "code",
   "execution_count": 8,
   "id": "80a20095-d226-4c2d-9f33-c6079d530d5c",
   "metadata": {},
   "outputs": [
    {
     "name": "stdout",
     "output_type": "stream",
     "text": [
      "\n",
      "0: []\n",
      "1: []\n",
      "2: []\n",
      "3: []\n",
      "4: []\n",
      "5: []\n",
      "\n",
      "0: [[1, 4], [2, 3]]\n",
      "1: [[2, 5], [3, 2]]\n",
      "2: [[3, 7]]\n",
      "3: [[4, 2]]\n",
      "4: [[0, 4], [1, 4], [5, 6]]\n",
      "5: []\n"
     ]
    }
   ],
   "source": [
    "def createList(n):\n",
    "    g={}\n",
    "    for i in range(n):\n",
    "        g[i]=[]\n",
    "    return g\n",
    "def printList(g):\n",
    "    for i in range(len(g)):\n",
    "        print(i,end=\": \")\n",
    "        print(g[i])\n",
    "\n",
    " \n",
    "print()\n",
    " \n",
    "f=open(\"weightedGraph.txt\",\"r\")\n",
    "line=f.readline()\n",
    "l=line.split()\n",
    "n=int(l[0])\n",
    "m=int(l[1])\n",
    " \n",
    " \n",
    "adj_list=createList(n)\n",
    "printList(adj_list)\n",
    " \n",
    "print()\n",
    " \n",
    "for i in range(m):\n",
    "    line1=f.readline()\n",
    "    u=int(line1.split()[0])\n",
    "    v=int(line1.split()[1])\n",
    "    w=int(line1.split()[2])\n",
    "    adj_list[u].append([v,w])\n",
    "printList(adj_list)"
   ]
  },
  {
   "cell_type": "code",
   "execution_count": null,
   "id": "5c3e6f4a-401a-4716-a94c-c83835b1f4df",
   "metadata": {},
   "outputs": [],
   "source": []
  },
  {
   "cell_type": "code",
   "execution_count": null,
   "id": "1046e2df-732e-4b09-afa3-a72ab09af3e1",
   "metadata": {},
   "outputs": [],
   "source": []
  }
 ],
 "metadata": {
  "kernelspec": {
   "display_name": "Python 3 (ipykernel)",
   "language": "python",
   "name": "python3"
  },
  "language_info": {
   "codemirror_mode": {
    "name": "ipython",
    "version": 3
   },
   "file_extension": ".py",
   "mimetype": "text/x-python",
   "name": "python",
   "nbconvert_exporter": "python",
   "pygments_lexer": "ipython3",
   "version": "3.12.4"
  }
 },
 "nbformat": 4,
 "nbformat_minor": 5
}
