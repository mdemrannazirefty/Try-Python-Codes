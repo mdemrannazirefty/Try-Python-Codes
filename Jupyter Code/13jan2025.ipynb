{
 "cells": [
  {
   "cell_type": "code",
   "execution_count": 19,
   "id": "9b331058-d7ef-4e51-bff9-e9010e3d7590",
   "metadata": {},
   "outputs": [
    {
     "name": "stdout",
     "output_type": "stream",
     "text": [
      "['01011', '10110', '00011', '10010', '01100', '11011', '11001', '01011', '01001', '01010']\n"
     ]
    }
   ],
   "source": [
    "import random\n",
    "def f(x):\n",
    "    return ((x**2)/2)-(3*x)\n",
    "\n",
    "#00000-11111\n",
    "def createChromosome(p_size):\n",
    "    population=[]\n",
    "    for j in range(p_size):\n",
    "        cromosome=''\n",
    "        for i in range(5):\n",
    "            c=random.randint(0,1)\n",
    "            cromosome+=str(c)\n",
    "        population.append(cromosome)\n",
    "    return population\n",
    "    \n",
    "def binaryToDecimal(p):\n",
    "    pass\n",
    "    \n",
    "def fitness(p):\n",
    "    pass\n",
    "\n",
    "def selection(p):\n",
    "    pass\n",
    "def crosssOver():\n",
    "    pass\n",
    "\n",
    "def mutation():\n",
    "    pass\n",
    "\n",
    "population_size=10\n",
    "population=createChromosome(population_size)\n",
    "print(population)\n",
    "    \n"
   ]
  },
  {
   "cell_type": "code",
   "execution_count": null,
   "id": "fdb6e5dd-589b-465c-8a39-c14f5b2abb0c",
   "metadata": {},
   "outputs": [],
   "source": []
  }
 ],
 "metadata": {
  "kernelspec": {
   "display_name": "Python 3 (ipykernel)",
   "language": "python",
   "name": "python3"
  },
  "language_info": {
   "codemirror_mode": {
    "name": "ipython",
    "version": 3
   },
   "file_extension": ".py",
   "mimetype": "text/x-python",
   "name": "python",
   "nbconvert_exporter": "python",
   "pygments_lexer": "ipython3",
   "version": "3.11.7"
  }
 },
 "nbformat": 4,
 "nbformat_minor": 5
}
