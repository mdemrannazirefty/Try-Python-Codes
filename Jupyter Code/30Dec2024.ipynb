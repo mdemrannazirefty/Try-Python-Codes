{
 "cells": [
  {
   "cell_type": "markdown",
   "id": "61c0d809-c454-41f0-910b-e587adb06d8a",
   "metadata": {},
   "source": [
    "## Attacking Pair"
   ]
  },
  {
   "cell_type": "code",
   "execution_count": 14,
   "id": "9d51d064-df10-48e7-9ed3-7db72db8c800",
   "metadata": {},
   "outputs": [
    {
     "name": "stdout",
     "output_type": "stream",
     "text": [
      "Random Queen:  32010\n",
      "[0, 0, 0, 1, 0]\n",
      "[0, 0, 1, 0, 0]\n",
      "[1, 0, 0, 0, 0]\n",
      "[0, 1, 0, 0, 0]\n",
      "[1, 0, 0, 0, 0]\n",
      "Attack:  4\n"
     ]
    }
   ],
   "source": [
    "import random\n",
    "def createCromosome(n):\n",
    "    c=''\n",
    "    for i in range(n):\n",
    "        c+=str(random.randint(0,n-1))\n",
    "    return c\n",
    "\n",
    "def find_attack(chromosome):\n",
    "    n=len(chromosome)\n",
    "    attack=0\n",
    "    for i in range(n):\n",
    "        for j in range(i+1,n):\n",
    "            if chromosome[i]==chromosome[j]:\n",
    "                attack+=1\n",
    "            elif abs(int(chromosome[i])-int(chromosome[j]))==abs(i-j):\n",
    "                attack+=1\n",
    "    return attack\n",
    "\n",
    "def createBoard(c1):\n",
    "    m=[]\n",
    "    n=len(c1)\n",
    "    for i in range(n):\n",
    "        c=[]\n",
    "        for j in range(n):\n",
    "            c.append(0)\n",
    "        m.append(c)\n",
    "        \n",
    "    for i in range(n):\n",
    "        m[i][int(c1[i])]=1\n",
    "    return m\n",
    "\n",
    "def printBoard(m):\n",
    "    for row in m:\n",
    "        print(row)\n",
    "\n",
    "n=5\n",
    "c1=createCromosome(n)\n",
    "print(\"Random Queen: \",c1)\n",
    "\n",
    "m=createBoard(c1)\n",
    "printBoard(m)\n",
    "\n",
    "attack1=find_attack(c1)\n",
    "print(\"Attack: \",attack1)\n"
   ]
  },
  {
   "cell_type": "markdown",
   "id": "813f6a6c-af81-4ae4-a0fc-82ac35d541e9",
   "metadata": {},
   "source": [
    "## non-Attacking Pair"
   ]
  },
  {
   "cell_type": "code",
   "execution_count": 18,
   "id": "64e1a1fd-6eed-42cb-8cd8-8d0dbd92174e",
   "metadata": {},
   "outputs": [
    {
     "name": "stdout",
     "output_type": "stream",
     "text": [
      "Non-Attacking Chromosome:  31420\n",
      "[0, 0, 0, 1, 0]\n",
      "[0, 1, 0, 0, 0]\n",
      "[0, 0, 0, 0, 1]\n",
      "[0, 0, 1, 0, 0]\n",
      "[1, 0, 0, 0, 0]\n",
      "Total Pairs:  10\n",
      "Attack Count:  0\n",
      "Non-Attack Pairs:  10\n"
     ]
    }
   ],
   "source": [
    "import random\n",
    "def createCromosome(n):\n",
    "    c=''\n",
    "    for i in range(n):\n",
    "        c+=str(random.randint(0,n-1))\n",
    "    return c\n",
    " \n",
    "def find_attack(chromosome):\n",
    "    n=len(chromosome)\n",
    "    attack=0\n",
    "    for i in range(n):\n",
    "        for j in range(i+1,n):\n",
    "            if chromosome[i]==chromosome[j]:\n",
    "                attack+=1\n",
    "            elif abs(int(chromosome[i])-int(chromosome[j]))==abs(i-j):\n",
    "                attack+=1\n",
    "    return attack\n",
    " \n",
    "def createBoard(c1):\n",
    "    m=[]\n",
    "    n=len(c1)\n",
    "    for i in range(n):\n",
    "        c=[]\n",
    "        for j in range(n):\n",
    "            c.append(0)\n",
    "        m.append(c)\n",
    "    for i in range(n):\n",
    "        m[i][int(c1[i])]=1\n",
    "    return m\n",
    " \n",
    "def printBoard(m):\n",
    "    for row in m:\n",
    "        print(row)\n",
    "def find_non_attacking(n, attack):\n",
    "    total_pairs = n * (n - 1) // 2\n",
    "    non_attacking_pairs = total_pairs - attack\n",
    "    return non_attacking_pairs\n",
    "n=5\n",
    "for i in range(3):\n",
    "    c1=createCromosome(n)\n",
    "    print(c1)\n",
    "    #p.append(n)\n",
    "    m=createBoard(c1)\n",
    "    printBoard(m)\n",
    "    attack1=find_attack(c1)\n",
    "    non_attack = find_non_attacking(n, attack1)\n",
    "    print(\"Attacking Pairs:\", attack1)\n",
    "    print(\"Non Attacking Pairs:\", non_attack)"
   ]
  },
  {
   "cell_type": "code",
   "execution_count": null,
   "id": "6f7d98ef-7c5c-4d2d-8e76-dc8c4200e298",
   "metadata": {},
   "outputs": [],
   "source": []
  }
 ],
 "metadata": {
  "kernelspec": {
   "display_name": "Python 3 (ipykernel)",
   "language": "python",
   "name": "python3"
  },
  "language_info": {
   "codemirror_mode": {
    "name": "ipython",
    "version": 3
   },
   "file_extension": ".py",
   "mimetype": "text/x-python",
   "name": "python",
   "nbconvert_exporter": "python",
   "pygments_lexer": "ipython3",
   "version": "3.12.4"
  }
 },
 "nbformat": 4,
 "nbformat_minor": 5
}
