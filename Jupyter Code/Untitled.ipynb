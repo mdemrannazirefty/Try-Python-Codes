{
 "cells": [
  {
   "cell_type": "markdown",
   "id": "66fd97ff-9f1c-42f5-b76a-46ab4f45b128",
   "metadata": {},
   "source": [
    "## adj matrix"
   ]
  },
  {
   "cell_type": "code",
   "execution_count": 5,
   "id": "15debbe3-7053-44bc-ad8f-dcb18c17fcef",
   "metadata": {},
   "outputs": [
    {
     "name": "stdout",
     "output_type": "stream",
     "text": [
      "[0, 0, 0, 0, 0]\n",
      "[0, 0, 0, 0, 0]\n",
      "[0, 0, 0, 0, 0]\n",
      "[0, 0, 0, 0, 0]\n",
      "[0, 0, 0, 0, 0]\n"
     ]
    }
   ],
   "source": [
    "def createMatrix(n):\n",
    "    m=[]\n",
    "    for i in range(n):\n",
    "        c=[]\n",
    "        for j in range(n):\n",
    "            c.append(0)\n",
    "        m.append(c)\n",
    "    return m\n",
    "    \n",
    "def printMatrix(m):\n",
    "    for i in range(len(m)):\n",
    "        print(m[i])\n",
    "        \n",
    "adj_matrix=createMatrix(5)\n",
    "printMatrix(adj_matrix)"
   ]
  },
  {
   "cell_type": "markdown",
   "id": "5a897177-3537-4ab0-acbb-23d54ee8acd6",
   "metadata": {},
   "source": [
    "## Directed graph"
   ]
  },
  {
   "cell_type": "code",
   "execution_count": 10,
   "id": "c26cd263-317b-44a7-bca0-69ece2f8b049",
   "metadata": {},
   "outputs": [
    {
     "name": "stdout",
     "output_type": "stream",
     "text": [
      "\n",
      "[0, 0, 0, 0, 0, 0]\n",
      "[0, 0, 0, 0, 0, 0]\n",
      "[0, 0, 0, 0, 0, 0]\n",
      "[0, 0, 0, 0, 0, 0]\n",
      "[0, 0, 0, 0, 0, 0]\n",
      "[0, 0, 0, 0, 0, 0]\n",
      "\n",
      "[0, 0, 1, 1, 0, 0]\n",
      "[0, 0, 1, 1, 0, 0]\n",
      "[0, 0, 0, 1, 0, 0]\n",
      "[0, 0, 0, 0, 1, 0]\n",
      "[1, 1, 0, 0, 0, 1]\n",
      "[0, 0, 0, 0, 0, 0]\n"
     ]
    }
   ],
   "source": [
    "def createMatrix(n):\n",
    "    m=[]\n",
    "    for i in range(n):\n",
    "        c=[]\n",
    "        for j in range(n):\n",
    "            c.append(0)\n",
    "        m.append(c)\n",
    "    return m\n",
    "    \n",
    "def printMatrix(m):\n",
    "    for i in range(len(m)):\n",
    "        print(m[i])\n",
    "\n",
    "print()\n",
    "\n",
    "f=open(\"Graph04nov.txt\",\"r\")\n",
    "line=f.readline()\n",
    "l=line.split()\n",
    "n=int(l[0])\n",
    "m=int(l[1])\n",
    "\n",
    "\n",
    "adj_matrix=createMatrix(n)\n",
    "printMatrix(adj_matrix)\n",
    "\n",
    "print()\n",
    "\n",
    "for i in range(m):\n",
    "    line1=f.readline()\n",
    "    u=int(line1.split()[0])\n",
    "    v=int(line1.split()[1])\n",
    "    adj_matrix[u][v]=1\n",
    "printMatrix(adj_matrix)"
   ]
  },
  {
   "cell_type": "markdown",
   "id": "4082eb71-2eac-49f9-ad81-44cb89b67ce6",
   "metadata": {},
   "source": [
    "## Undirected graph"
   ]
  },
  {
   "cell_type": "code",
   "execution_count": 17,
   "id": "e89d0e0a-8f9a-46a3-a413-a33789b5a078",
   "metadata": {},
   "outputs": [
    {
     "name": "stdout",
     "output_type": "stream",
     "text": [
      "\n"
     ]
    },
    {
     "ename": "FileNotFoundError",
     "evalue": "[Errno 2] No such file or directory: 'udgraph.txt'",
     "output_type": "error",
     "traceback": [
      "\u001b[1;31m---------------------------------------------------------------------------\u001b[0m",
      "\u001b[1;31mFileNotFoundError\u001b[0m                         Traceback (most recent call last)",
      "Cell \u001b[1;32mIn[17], line 16\u001b[0m\n\u001b[0;32m     12\u001b[0m         \u001b[38;5;28mprint\u001b[39m(m[i])\n\u001b[0;32m     14\u001b[0m \u001b[38;5;28mprint\u001b[39m()\n\u001b[1;32m---> 16\u001b[0m f\u001b[38;5;241m=\u001b[39m\u001b[38;5;28mopen\u001b[39m(\u001b[38;5;124m\"\u001b[39m\u001b[38;5;124mudgraph.txt\u001b[39m\u001b[38;5;124m\"\u001b[39m,\u001b[38;5;124m\"\u001b[39m\u001b[38;5;124mr\u001b[39m\u001b[38;5;124m\"\u001b[39m)\n\u001b[0;32m     17\u001b[0m line\u001b[38;5;241m=\u001b[39mf\u001b[38;5;241m.\u001b[39mreadline()\n\u001b[0;32m     18\u001b[0m l\u001b[38;5;241m=\u001b[39mline\u001b[38;5;241m.\u001b[39msplit()\n",
      "File \u001b[1;32m~\\anaconda3\\Lib\\site-packages\\IPython\\core\\interactiveshell.py:324\u001b[0m, in \u001b[0;36m_modified_open\u001b[1;34m(file, *args, **kwargs)\u001b[0m\n\u001b[0;32m    317\u001b[0m \u001b[38;5;28;01mif\u001b[39;00m file \u001b[38;5;129;01min\u001b[39;00m {\u001b[38;5;241m0\u001b[39m, \u001b[38;5;241m1\u001b[39m, \u001b[38;5;241m2\u001b[39m}:\n\u001b[0;32m    318\u001b[0m     \u001b[38;5;28;01mraise\u001b[39;00m \u001b[38;5;167;01mValueError\u001b[39;00m(\n\u001b[0;32m    319\u001b[0m         \u001b[38;5;124mf\u001b[39m\u001b[38;5;124m\"\u001b[39m\u001b[38;5;124mIPython won\u001b[39m\u001b[38;5;124m'\u001b[39m\u001b[38;5;124mt let you open fd=\u001b[39m\u001b[38;5;132;01m{\u001b[39;00mfile\u001b[38;5;132;01m}\u001b[39;00m\u001b[38;5;124m by default \u001b[39m\u001b[38;5;124m\"\u001b[39m\n\u001b[0;32m    320\u001b[0m         \u001b[38;5;124m\"\u001b[39m\u001b[38;5;124mas it is likely to crash IPython. If you know what you are doing, \u001b[39m\u001b[38;5;124m\"\u001b[39m\n\u001b[0;32m    321\u001b[0m         \u001b[38;5;124m\"\u001b[39m\u001b[38;5;124myou can use builtins\u001b[39m\u001b[38;5;124m'\u001b[39m\u001b[38;5;124m open.\u001b[39m\u001b[38;5;124m\"\u001b[39m\n\u001b[0;32m    322\u001b[0m     )\n\u001b[1;32m--> 324\u001b[0m \u001b[38;5;28;01mreturn\u001b[39;00m io_open(file, \u001b[38;5;241m*\u001b[39margs, \u001b[38;5;241m*\u001b[39m\u001b[38;5;241m*\u001b[39mkwargs)\n",
      "\u001b[1;31mFileNotFoundError\u001b[0m: [Errno 2] No such file or directory: 'udgraph.txt'"
     ]
    }
   ],
   "source": [
    "def createMatrix(n):\n",
    "    m=[]\n",
    "    for i in range(n):\n",
    "        c=[]\n",
    "        for j in range(n):\n",
    "            c.append(0)\n",
    "        m.append(c)\n",
    "    return m\n",
    "    \n",
    "def printMatrix(m):\n",
    "    for i in range(len(m)):\n",
    "        print(m[i])\n",
    "\n",
    "print()\n",
    "\n",
    "f=open(\"udgraph.txt\",\"r\")\n",
    "line=f.readline()\n",
    "l=line.split()\n",
    "n=int(l[0])\n",
    "m=int(l[1])\n",
    "\n",
    "\n",
    "adj_matrix=createMatrix(n)\n",
    "printMatrix(adj_matrix)\n",
    "\n",
    "print()\n",
    "\n",
    "for i in range(m):\n",
    "    line1=f.readline()\n",
    "    u=int(line1.split()[0])\n",
    "    v=int(line1.split()[1])\n",
    "    adj_matrix[u][v]=1\n",
    "    adj_matrix[u][v]=1\n",
    "printMatrix(adj_matrix)"
   ]
  },
  {
   "cell_type": "code",
   "execution_count": null,
   "id": "3672ca05-08f3-4b7b-9341-be7614b760fb",
   "metadata": {},
   "outputs": [],
   "source": []
  },
  {
   "cell_type": "code",
   "execution_count": null,
   "id": "79d0f8b1-42ed-42e5-9ac4-8b243f30b827",
   "metadata": {},
   "outputs": [],
   "source": []
  }
 ],
 "metadata": {
  "kernelspec": {
   "display_name": "Python 3 (ipykernel)",
   "language": "python",
   "name": "python3"
  },
  "language_info": {
   "codemirror_mode": {
    "name": "ipython",
    "version": 3
   },
   "file_extension": ".py",
   "mimetype": "text/x-python",
   "name": "python",
   "nbconvert_exporter": "python",
   "pygments_lexer": "ipython3",
   "version": "3.12.4"
  }
 },
 "nbformat": 4,
 "nbformat_minor": 5
}
