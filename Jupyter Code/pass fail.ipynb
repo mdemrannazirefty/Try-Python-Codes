{
 "cells": [
  {
   "cell_type": "code",
   "execution_count": 1,
   "id": "66a6ef87-7adf-4247-83f3-a07eecd323da",
   "metadata": {},
   "outputs": [
    {
     "name": "stdout",
     "output_type": "stream",
     "text": [
      "Adult\n",
      "I love to write code\n"
     ]
    }
   ],
   "source": [
    "age=20\n",
    "if age>=18:\n",
    "    print(\"Adult\")\n",
    "    print(\"I love to write code\")\n",
    "else:\n",
    "    print(\"Not Adult\")"
   ]
  },
  {
   "cell_type": "code",
   "execution_count": 3,
   "id": "101a28e5-2ee5-40dd-b25e-6072a01cb343",
   "metadata": {},
   "outputs": [
    {
     "name": "stdout",
     "output_type": "stream",
     "text": [
      "A+\n"
     ]
    }
   ],
   "source": [
    "marks=90\n",
    "if marks>=90 and marks<=100:\n",
    "    print(\"A+\")\n",
    "elif marks>=58 and marks<=90:\n",
    "    print(\"A\")\n",
    "else:\n",
    "    print(\"FAil\")"
   ]
  },
  {
   "cell_type": "code",
   "execution_count": null,
   "id": "0956f43a-8bce-4059-8f43-ce00f8dd4fc7",
   "metadata": {},
   "outputs": [],
   "source": []
  }
 ],
 "metadata": {
  "kernelspec": {
   "display_name": "Python 3 (ipykernel)",
   "language": "python",
   "name": "python3"
  },
  "language_info": {
   "codemirror_mode": {
    "name": "ipython",
    "version": 3
   },
   "file_extension": ".py",
   "mimetype": "text/x-python",
   "name": "python",
   "nbconvert_exporter": "python",
   "pygments_lexer": "ipython3",
   "version": "3.12.4"
  }
 },
 "nbformat": 4,
 "nbformat_minor": 5
}
